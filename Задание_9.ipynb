{
  "cells": [
    {
      "cell_type": "markdown",
      "metadata": {
        "id": "m2s4kN_QPQVe"
      },
      "source": [
        "# Введение в обучение с подкреплением  (Reinforcement Learning)\n",
        "\n",
        "\n",
        "<center>\n",
        "<img src=\"https://raw.githubusercontent.com/jcformanek/jcformanek.github.io/master/docs/assets/images/rl_in_space.png\" width=\"100%\" />\n",
        "</center>\n",
        "\n",
        "\n",
        "\n",
        "**Введение**\n",
        "\n",
        "На этом семинаре мы изучим обучение с подкреплением - тип машинного обучения без учителя, где агент учится выбирать действия, которые приводят к максимальному вознаграждению в долгосрочной перспективе. Обучение с подкреплением используется в широком спектре сложных задач, в том числе - в видеоиграх, например, [Atari](https://www.deepmind.com/blog/agent57-outperforming-the-human-atari-benchmark), [StarCraft II](https://www.deepmind.com/blog/alphastar-mastering-the-real-time-strategy-game-starcraft-ii) и [Dota II](https://openai.com/five/).\n",
        "\n",
        "На семинаре изучим классическую среду - [CartPole](https://www.gymlibrary.ml/environments/classic_control/cart_pole/), где агент должен научиться балансировать шестом на тележке (см лекцию), используя несколько различных подходов RL. По пути вы познакомитесь с некоторыми из самых важных концепций и терминологии в RL.\n",
        "\n",
        "**Темы:**\n",
        "* Reinforcement Learning (RL, Обучение с подкреплением)\n",
        "* Random Policy Search (Случайный поиск политики)\n",
        "* Policy Gradient (Градиент политики)\n",
        "* Q-Learning\n",
        "\n",
        "\n",
        "**Что надо сделать для лучшего понимания:**\n",
        "\n",
        "* почитать про библиотеку [JAX](https://github.com/google/jax).\n",
        "* вспомнить нейроки.\n",
        "\n"
      ]
    },
    {
      "cell_type": "markdown",
      "metadata": {
        "id": "6EqhIg1odqg0"
      },
      "source": [
        "### Настраиваем среду"
      ]
    },
    {
      "cell_type": "code",
      "execution_count": 1,
      "metadata": {
        "id": "4boGA9rYdt9l"
      },
      "outputs": [],
      "source": [
        "# @title Установка необходимых пакетов (надо просто запустить!) { display-mode: \"form\" }\n",
        "# @markdown Может занять несколько минут\n",
        "%%capture\n",
        "!pip install jaxlib\n",
        "!pip install jax\n",
        "!pip install git+https://github.com/deepmind/dm-haiku\n",
        "!pip install gym==0.25\n",
        "!pip install gym[box2d]\n",
        "!pip install optax\n",
        "!pip install matplotlib\n",
        "!pip install chex\n",
        "!pip install gym[classic_control]"
      ]
    },
    {
      "cell_type": "code",
      "execution_count": 2,
      "metadata": {
        "id": "gwbqggmcRjMy"
      },
      "outputs": [],
      "source": [
        "# @title Импорт необходимых пакетов (просто запустите ячейку) { display-mode: \"form\" }\n",
        "%%capture\n",
        "import copy\n",
        "from shutil import rmtree # deleting directories\n",
        "import random\n",
        "import collections # useful data structures\n",
        "import numpy as np\n",
        "import gym # reinforcement learning environments\n",
        "from gym.wrappers import RecordVideo\n",
        "import jax\n",
        "import jax.numpy as jnp # jax numpy\n",
        "import haiku as hk # jax neural network library\n",
        "import optax # jax optimizer library\n",
        "import matplotlib.pyplot as plt # graph plotting library\n",
        "from IPython.display import HTML\n",
        "from base64 import b64encode\n",
        "import chex\n",
        "\n",
        "# Hide warnings\n",
        "import warnings\n",
        "warnings.filterwarnings('ignore')"
      ]
    },
    {
      "cell_type": "markdown",
      "metadata": {
        "id": "-ZUp8i37dFbU"
      },
      "source": [
        "## 1. Ключевые концепции обучения с подкреплением\n",
        "\n",
        "Обучение с подкреплением (RL) является подразделом машинного обучения (ML). В отличие от таких областей, как контролируемое обучение, где мы даем примеры ожидаемого поведения нашим моделям, RL фокусируется на *целеориентированном* обучении из взаимодействий методом проб и ошибок. Алгоритмы RL изучают, что делать (т. е. какие оптимальные действия предпринять) в среде, чтобы максимизировать некий сигнал вознаграждения. В таких условиях, как видеоигра, сигналом вознаграждения может быть счет игры, т. е. алгоритмы RL будут пытаться максимизировать счет в игре, выбирая лучшие действия.\n",
        "\n",
        "<center>\n",
        "<img src=\"https://pettingzoo.farama.org/_images/environments-demo.gif\" width=\"40%\" />\n",
        "</center>\n",
        "\n",
        "[*Image Source*](https://pettingzoo.farama.org/)\n",
        "\n",
        "Другими словами, в RL у нас есть **агент**, который воспринимает **наблюдение** $o_t$ текущего состояния $s_t$ **окружающей среды** и должен выбрать **действие** $a_t$ для выполнения.\n",
        "\n",
        "Затем окружающая среда переходит в новое состояние $s_{t+1}$ в ответ на действие агента, а также дает агенту скалярное вознаграждение $r_t$, чтобы указать, насколько хорошим или плохим было выбранное действие, учитывая состояние окружающей среды.\n",
        "\n",
        "Целью в RL является максимизация агентом суммы вознаграждения, которое он получает от окружающей среды с течением времени. Нижний индекс $t$ используется для указания номера временного шага, т. е. $s_0$ - это состояние окружающей среды на начальном временном шаге, а $a_{99}$ - это действие агента на $99-м$ временном шаге."
      ]
    },
    {
      "cell_type": "markdown",
      "metadata": {
        "id": "Ghgy69hFRjMz"
      },
      "source": [
        "### Среда - OpenAI Gym\n",
        "Как упоминалось выше, среда получает от агента действие $a_t$ и возвращает вознаграждение $r_t$ и наблюдение $o_t$.\n",
        "\n",
        "OpenAI разработал пакет для Python под названием **Gym**, который включает реализации популярных сред и простой интерфейс для взаимодействия агента RL. Чтобы использовать поддерживаемую [среду gym](https://www.gymlibrary.ml/), все, что вам нужно сделать, это передать имя среды в функцию  `gym.make(<environment_name>)`.\n",
        "\n",
        "В этом уроке мы будем использовать простую среду под названием **CartPole**. В CartPole задача агента — научиться балансировать на шесте как можно дольше, перемещая тележку *влево* или *вправо*.\n",
        "\n",
        "<img src=\"https://user-images.githubusercontent.com/10854026/32486103-f15f19de-c3a5-11e7-81de-0605df939497.gif\" width=\"50%\" />"
      ]
    },
    {
      "cell_type": "code",
      "execution_count": 3,
      "metadata": {
        "id": "WfxzajMYRjMz"
      },
      "outputs": [],
      "source": [
        "# Create the environment\n",
        "env_name = \"CartPole-v0\"\n",
        "env = gym.make(env_name)"
      ]
    },
    {
      "cell_type": "markdown",
      "metadata": {
        "id": "y_BbftaJj3zu"
      },
      "source": [
        "### Состояние (States) и Наблюдение (Observations) - $s_t$ and $o_t$\n",
        "\n",
        "В RL агент воспринимает наблюдение за состоянием среды. В некоторых настройках наблюдение может включать всю информацию, лежащую в основе состояния среды. Такая среда называется **полностью наблюдаемой**. В других настройках агент может получать только частичную информацию о состоянии среды в своем наблюдении. Такая среда называется **частично наблюдаемой**.\n",
        "\n",
        "В оставшейся части этого руководства мы будем предполагать, что среда полностью наблюдаема, и поэтому будем использовать состояние $s_t$ и наблюдение $o_t$ взаимозаменяемо. В Gym мы получаем начальное наблюдение из среды, вызывая функцию `env.reset()`."
      ]
    },
    {
      "cell_type": "code",
      "execution_count": 4,
      "metadata": {
        "id": "HdS8nqOgRjM0",
        "colab": {
          "base_uri": "https://localhost:8080/"
        },
        "outputId": "b3e02b26-3f1a-43ca-be74-a862bf1b512d"
      },
      "outputs": [
        {
          "output_type": "stream",
          "name": "stdout",
          "text": [
            "Initial State:: [-0.0153113   0.03614656  0.01404598 -0.04476192]\n",
            "Environment Obs Space Shape: (4,)\n"
          ]
        }
      ],
      "source": [
        "# Reset the environment\n",
        "s_0 = env.reset()\n",
        "print(\"Initial State::\", s_0)\n",
        "\n",
        "# Get environment obs space\n",
        "obs_shape = env.observation_space.shape\n",
        "print(\"Environment Obs Space Shape:\", obs_shape)"
      ]
    },
    {
      "cell_type": "markdown",
      "metadata": {
        "id": "pUNX6mbotABo"
      },
      "source": [
        "В CartPole состояние окружающей среды представлено четырьмя числами: *угловое положение полюса, угловая скорость полюса, положение тележки, скорость тележки*."
      ]
    },
    {
      "cell_type": "markdown",
      "metadata": {
        "id": "hL1Nkgy7nUfn"
      },
      "source": [
        "### Действия (Actions) - $a_t$\n",
        "\n",
        "В RL действия обычно либо **дискретные**, либо **непрерывные**. Непрерывные действия задаются вектором действительных чисел. Дискретные действия задаются целочисленным значением. В средах, где мы можем подсчитать конечный набор действий, мы обычно используем дискретные действия.\n",
        "\n",
        "В CartPole есть только два действия: *влево* и *вправо*. Таким образом, действия могут быть представлены целыми числами $0$ и $1$. В gym мы можем легко получить список возможных действий следующим образом:"
      ]
    },
    {
      "cell_type": "code",
      "execution_count": 5,
      "metadata": {
        "id": "uOLZqU_LpIXh",
        "colab": {
          "base_uri": "https://localhost:8080/"
        },
        "outputId": "1f544347-40f9-440f-8f11-120a0dbc5444"
      },
      "outputs": [
        {
          "output_type": "stream",
          "name": "stdout",
          "text": [
            "Environment action space: Discrete(2)\n",
            "Number of actions: 2\n"
          ]
        }
      ],
      "source": [
        "# Get action space - e.g. discrete or continuous\n",
        "print(f\"Environment action space: {env.action_space}\")\n",
        "\n",
        "# Get num actions\n",
        "num_actions = env.action_space.n\n",
        "print(f\"Number of actions: {num_actions}\")"
      ]
    },
    {
      "cell_type": "markdown",
      "metadata": {
        "id": "tRsflxbDpoPm"
      },
      "source": [
        "### Политика агента (The Agent's Policy) - $\\pi$\n",
        "\n",
        "В RL агент выбирает действия на основе полученных наблюдений. Мы можем представить процесс выбора действия агента как функцию, которая принимает наблюдение в качестве входных данных и возвращает действие в качестве выходных данных. В RL мы обычно называем эту функцию **политикой** агента и обозначаем ее $\\pi(s_t)=a_t$. В RL мы обычно параметризуем нашу политику каким-либо образом, а затем пытаемся узнать оптимальные параметры. Параметризованная политика обычно обозначается $\\pi_\\theta$, где $\\theta$ — это набор параметров.\n",
        "\n",
        "**Упражнение 1:** В качестве упражнения давайте реализуем простую политику, которая принимает набор параметров и наблюдение в качестве входных данных и возвращает действие. Предположим, что наблюдение — это вектор из четырех чисел, как наблюдение CartPole, и что действие должно быть либо $0$, либо $1$. Предположим также, что параметры — это вектор из четырех действительных чисел. Тогда действие должно быть вычислено следующим образом.\n",
        "\n",
        "\n",
        "1. Вычислите [скалярное произведение векторов](https://www.mathsisfun.com/algebra/vectors-dot-product.html) между наблюдением и параметрами.\n",
        "2. Если результат больше нуля, верните действие $1$.\n",
        "3. В противном случае верните действие $0$.\n",
        "\n",
        "В этом упражнении мы постараемся использовать JAX как можно чаще. Поэтому постарайтесь использовать методы JAX для этой задачи. Ниже приведены некоторые полезные методы, которые вы можете использовать. Вам нужно будет завершить код в блоке ниже, заменив `...` правильным кодом.\n",
        "\n",
        "\n",
        "**Полезные методы:**\n",
        "* Вычислите скалярное произведение векторов с помощью `jax.numpy.dot` ([docs](https://jax.readthedocs.io/en/latest/_autosummary/jax.numpy.dot.html)).\n",
        "\n",
        "* Когда вы пытаетесь условно присвоить значение $0$ или $1$ действию на основе результата скалярного произведения, вам следует использовать `jax.lax.select` ([docs](https://jax.readthedocs.io/en/latest/_autosummary/jax.lax.select.html#jax.lax.select)).\n",
        "\n",
        "Метод `jax.lax.select` принимает три аргумента в качестве входных данных. Первый аргумент — это оператор, который будет оцениваться как `True` или `False`.\n",
        "\n",
        "Если оператор равен `True`, то `jax.lax.select` вернет свой второй аргумент.\n",
        "\n",
        "Если оператор имеет значение `False`, `jax.lax.select` вернет свой третий аргумент.\n",
        "\n"
      ]
    },
    {
      "cell_type": "code",
      "execution_count": 6,
      "metadata": {
        "id": "KSGCd7XB1z8k"
      },
      "outputs": [],
      "source": [
        "def linear_policy(params, obs):\n",
        "  \"\"\"A simple linear policy\n",
        "\n",
        "  Args:\n",
        "    params: a vector of four real-numbers that give the parameters of the policy\n",
        "    obs: a vector of four real-numbers that give the agent's observation\n",
        "\n",
        "  Returns:\n",
        "    a discrete action given by a 0 or 1\n",
        "  \"\"\"\n",
        "  # YOUR CODE\n",
        "  dot_product_result = jax.numpy.dot(params, obs)\n",
        "\n",
        "  action = jax.lax.select(\n",
        "      dot_product_result > 0,\n",
        "      1,\n",
        "      0\n",
        "  )\n",
        "  # END YOUR CODE\n",
        "  return action"
      ]
    },
    {
      "cell_type": "code",
      "execution_count": 7,
      "metadata": {
        "id": "9EnnBvceb1f3",
        "colab": {
          "base_uri": "https://localhost:8080/"
        },
        "outputId": "728d6c10-2e1b-4fc0-a6f6-83a521f5d1cd"
      },
      "outputs": [
        {
          "output_type": "stream",
          "name": "stdout",
          "text": [
            "Your function is correct!\n"
          ]
        }
      ],
      "source": [
        "# @title Проверка упр 1  { display-mode: \"form\" }\n",
        "\n",
        "def check_linear_policy(linear_policy):\n",
        "  fixed_obs = jnp.array([1,1,2,4])\n",
        "\n",
        "  # check case1 - negative dot product.\n",
        "  # weights\n",
        "  params1 = jnp.array([1,1,1,1])\n",
        "  params2 = jnp.array([-1,-1,-1,-1])\n",
        "\n",
        "  hint1 = f\"Неправильный ответ, ваша линейная политика неверна. Действие при \\\n",
        "obs={fixed_obs} и params={params1} должно быть 1\"\n",
        "\n",
        "  hint2 = f\"Неправильный ответ, ваша линейная политика неверна. Действие при \\\n",
        "obs={fixed_obs} и params={params2} должно быть 0\"\n",
        "\n",
        "  hint = None\n",
        "  if linear_policy(params1, fixed_obs) != 1:\n",
        "    hint = hint1\n",
        "  elif linear_policy(params2, fixed_obs) != 0:\n",
        "    hint = hint2\n",
        "\n",
        "  if hint is not None:\n",
        "    print(hint)\n",
        "  else:\n",
        "    print(\"Your function is correct!\")\n",
        "\n",
        "try:\n",
        "  check_linear_policy(linear_policy)\n",
        "except Exception as e:\n",
        "    print(\"An Error Occured: {}\".format(e))"
      ]
    },
    {
      "cell_type": "markdown",
      "metadata": {
        "id": "PkuvT-jf6Ieh"
      },
      "source": [
        "### Функция перехода среды - $P$\n",
        "\n",
        "Теперь, когда у нас есть политика, мы можем передавать действия от агента среде. Затем среда перейдет в новое состояние в ответ на действие агента.\n",
        "\n",
        "В RL мы моделируем этот процесс с помощью **функции перехода состояния** $P$, которая принимает текущее состояние $s_t$ и действие $a_t$ в качестве входных данных и возвращает следующее состояние $s_{t+1}$ в качестве выходных данных:\n",
        "\n",
        "<center>\n",
        "$s_{t+1}=P(s_t, a_t)$\n",
        "</center>\n",
        "\n",
        "В gym мы можем передавать действия среде, вызывая функцию `env.step(<action>)`. Затем функция вернет четыре значения:\n",
        "- **следующее наблюдение**\n",
        "- **награду** за выполненное действие\n",
        "- логический флаг, указывающий, **завершена** игра\n",
        "- некоторую **дополнительную** информацию."
      ]
    },
    {
      "cell_type": "code",
      "execution_count": 8,
      "metadata": {
        "id": "hh0j9-Tk7olb",
        "colab": {
          "base_uri": "https://localhost:8080/"
        },
        "outputId": "57aba164-c3e7-4679-919b-c099ff5861db"
      },
      "outputs": [
        {
          "output_type": "stream",
          "name": "stdout",
          "text": [
            "Observation: [ 0.02505232  0.0198234  -0.02296251  0.02603145]\n",
            "Action: 1\n",
            "Next observation: [ 0.02544879  0.215267   -0.02244188 -0.27380705]\n",
            "Reward: 1.0\n",
            "Game is done: False\n"
          ]
        }
      ],
      "source": [
        "# Get the initial obs by resetting the env\n",
        "initial_obs = env.reset()\n",
        "\n",
        "# Randomly sample actions from env\n",
        "action = env.action_space.sample()\n",
        "\n",
        "# Step the environment\n",
        "next_obs, reward, done, info = env.step(action)\n",
        "\n",
        "print(\"Observation:\", initial_obs)\n",
        "print(\"Action:\", action)\n",
        "print(\"Next observation:\", next_obs)\n",
        "print(\"Reward:\", reward)\n",
        "print(\"Game is done:\", done)"
      ]
    },
    {
      "cell_type": "markdown",
      "metadata": {
        "id": "bX9iZtu48UYn"
      },
      "source": [
        "### Возврат эпизода - $R_t$\n",
        "\n",
        "В RL мы обычно разбиваем взаимодействие агента с окружающей средой на **эпизоды**. Сумма всех вознаграждений, собранных во время эпизода, - это то, что мы называем **возвратом** эпизода - $R_t$:\n",
        "\n",
        "<center>\n",
        "$R_t=\\sum_{t=0}^Tr_t$,\n",
        "</center>\n",
        "\n",
        "где $r_t$ - это вознаграждение в момент времени $t$, а $T$ - это последний временной шаг. Цель в RL - выбрать действия, которые максимизируют этот ожидаемый будущий возврат $R_t$."
      ]
    },
    {
      "cell_type": "markdown",
      "metadata": {
        "id": "y6KZA1Nq9p47"
      },
      "source": [
        "### Цикл агент-среда\n",
        "Теперь, когда мы знаем, что такое политика, и знаем, как пошагово проходить среду, давайте закроем цикл агент-среда.\n",
        "\n",
        "**Упражнение 2:** Напишите функцию, которая запускает один эпизод CartPole, последовательно выбирая действия и пошагово проходя среду. Вам следует использовать линейную политику, которую мы определили ранее, для выбора действий. Функция должна отслеживать полученное вознаграждение и выводить возврат в конце эпизода.\n",
        "\n",
        "В CartPole агент получает вознаграждение `1` за каждый временной шаг, когда шест все еще стоит вертикально. Если шест падает, игра заканчивается, и агент больше не получает вознаграждения. Игра также заканчивается после `200` временных шагов, поэтому максимальное вознаграждение, которое может получить агент, составляет `200`."
      ]
    },
    {
      "cell_type": "code",
      "execution_count": 9,
      "metadata": {
        "id": "Buy0X7mi-gHP"
      },
      "outputs": [],
      "source": [
        "def run_episode(env):\n",
        "  episode_return = 0 # counter to keep track of rewards\n",
        "  done = False # initially set to False\n",
        "  params = jnp.array([1,-2,2,-1]) # fixed policy parameters\n",
        "\n",
        "  ## YOUR CODE\n",
        "\n",
        "  obs = env.reset()\n",
        "  while not done:  # Loop until the episode is done\n",
        "    action = linear_policy(params, obs)  # Compute action using the linear policy\n",
        "    action = np.array(action)  # Convert the action to a NumPy array\n",
        "\n",
        "    obs, reward, done, info = env.step(action)  # Step the environment\n",
        "\n",
        "    episode_return += reward  # Add reward to episode return\n",
        "\n",
        "  return episode_return"
      ]
    },
    {
      "cell_type": "code",
      "execution_count": 10,
      "metadata": {
        "id": "bA2Orj9PVbKO",
        "colab": {
          "base_uri": "https://localhost:8080/"
        },
        "outputId": "38497609-fc1b-4cbb-be4d-0184d446b3f8"
      },
      "outputs": [
        {
          "output_type": "stream",
          "name": "stdout",
          "text": [
            "Looks correct!\n"
          ]
        }
      ],
      "source": [
        "# @title Проверка упр 2 (run me) { display-mode: \"form\" }\n",
        "\n",
        "try:\n",
        "  env.seed(42)\n",
        "  if run_episode(env) == 31:\n",
        "    print(\"Looks correct!\")\n",
        "  else:\n",
        "    print(\"Looks like your implementation might be wrong.\")\n",
        "except Exception as e:\n",
        "    print(\"An Error Occured: {}\".format(e))"
      ]
    },
    {
      "cell_type": "markdown",
      "metadata": {
        "id": "fUGdzHxJnZGl"
      },
      "source": [
        "В CartPole среда считается решенной, когда агент может надежно достичь возврата эпизода 500. Как вы можете видеть, наша текущая политика далека от оптимальной.\n",
        "\n",
        "Один из способов найти оптимальную политику — это случайным образом пробовать разные политики, пока не найдем оптимальную. Эта стратегия называется случайным поиском политики и может быть на удивление эффективной.\n",
        "\n",
        "Прежде чем мы реализуем случайный поиск политики, давайте быстро рассмотрим общий цикл обучения RL, который мы будем использовать для реализации алгоритмов в оставшейся части этого руководства.\n",
        "\n",
        "### Цикл обучения RL общего назначения\n",
        "Мы реализовали для вас цикл обучения RL общего назначения. Цикл обучения принимает несколько аргументов в качестве входных данных, но три наиболее важных для понимания — это `agent_select_action_func`, `agent_learn_func` и `agent_memory`.\n",
        "\n",
        "* `agent_select_action_func` — это функция, которую мы определяем и можем передать в цикл обучения. Функция принимает наблюдение и набор `agent_params` в качестве входных данных и должна возвращать действие.\n",
        "* `agent_learn_func` — это еще один метод, который мы определяем и передаем в цикл обучения. Он должен принимать параметры агента и некоторые «воспоминания» в качестве входных данных, а затем обновлять и возвращать агентам новые параметры.\n",
        "* `agent_memory` — это модуль общего назначения, который мы определяем, который может хранить некоторую релевантную информацию об опыте агента в среде, которую можно использовать в `agent_learn_func`.\n",
        "\n",
        "Ниже приведена функция цикла обучения, которую мы реализовали для вас. Вы можете просмотреть код и попытаться понять его, но это не обязательно. Таким образом, мы скрыли код по умолчанию, просто убедитесь, что вы запустили ячейку кода, прежде чем двигаться дальше, потому что цикл обучения далее в коде."
      ]
    },
    {
      "cell_type": "code",
      "execution_count": 11,
      "metadata": {
        "id": "ZWBwz3zMRjM0"
      },
      "outputs": [],
      "source": [
        "#@title Training loop (run me) { display-mode: \"form\" }\n",
        "\n",
        "# NamedTuple to store transitions\n",
        "Transition = collections.namedtuple(\"Transition\", [\"obs\", \"action\", \"reward\", \"next_obs\", \"done\"])\n",
        "\n",
        "# Training Loop\n",
        "def run_training_loop(env_name, agent_params, agent_select_action_func,\n",
        "    agent_actor_state=None, agent_learn_func=None, agent_learner_state=None,\n",
        "    agent_memory=None, num_episodes=1000, evaluator_period=100,\n",
        "    evaluation_episodes=8, learn_steps_per_episode=1,\n",
        "    train_every_timestep=False, video_subdir=\"\",):\n",
        "    \"\"\"\n",
        "    This function runs several episodes in an environment and periodically does\n",
        "    some agent learning and evaluation.\n",
        "\n",
        "    Args:\n",
        "        env: a gym environment.\n",
        "        agent_params: an object to store parameters that the agent uses.\n",
        "        agent_select_func: a function that does action selection for the agent.\n",
        "        agent_actor_state (optional): an object that stores the internal state\n",
        "            of the agents action selection function.\n",
        "        agent_learn_func (optional): a function that does some learning for the\n",
        "            agent by updating the agent parameters.\n",
        "        agent_learn_state (optional): an object that stores the internal state\n",
        "            of the agent learn function.\n",
        "        agent_memory (optional): an object for storing an retrieving historical\n",
        "            experience.\n",
        "        num_episodes: how many episodes to run.\n",
        "        evaluator_period: how often to run evaluation.\n",
        "        evaluation_episodes: how many evaluation episodes to run.\n",
        "        train_every_timestep: whether to train every timestep rather than at the end\n",
        "            of the episode.\n",
        "        video_subdir: subdirectory to store epsiode recordings.\n",
        "\n",
        "    Returns:\n",
        "        episode_returns: list of all the episode returns.\n",
        "        evaluator_episode_returns: list of all the evaluator episode returns.\n",
        "    \"\"\"\n",
        "\n",
        "    # Setup Cartpole environment and recorder\n",
        "    env = gym.make(env_name, render_mode=\"rgb_array\") # training environment\n",
        "    eval_env = gym.make(env_name, render_mode=\"rgb_array\") # evaluation environment\n",
        "\n",
        "    # Video dir\n",
        "    video_dir = \"./video\"+\"/\"+video_subdir\n",
        "\n",
        "    # Clear video dir\n",
        "    try:\n",
        "      rmtree(video_dir)\n",
        "    except:\n",
        "      pass\n",
        "\n",
        "    # Wrap in recorder\n",
        "    env = RecordVideo(env, video_dir+\"/train\", episode_trigger=lambda x: (x % evaluator_period) == 0)\n",
        "    eval_env = RecordVideo(eval_env, video_dir+\"/eval\", episode_trigger=lambda x: (x % evaluation_episodes) == 0)\n",
        "\n",
        "    # JAX random number generator\n",
        "    rng = hk.PRNGSequence(jax.random.PRNGKey(0))\n",
        "    env.seed(0) # seed environment for reproducability\n",
        "    random.seed(0)\n",
        "\n",
        "    episode_returns = [] # List to store history of episode returns.\n",
        "    evaluator_episode_returns = [] # List to store history of evaluator returns.\n",
        "    timesteps = 0\n",
        "    for episode in range(num_episodes):\n",
        "\n",
        "        # Reset environment.\n",
        "        obs = env.reset()\n",
        "        episode_return = 0\n",
        "        done = False\n",
        "\n",
        "        while not done:\n",
        "\n",
        "            # Agent select action.\n",
        "            action, agent_actor_state = agent_select_action_func(\n",
        "                                            next(rng),\n",
        "                                            agent_params,\n",
        "                                            agent_actor_state,\n",
        "                                            np.array(obs)\n",
        "                                        )\n",
        "\n",
        "            # Step environment.\n",
        "            next_obs, reward, done, _ = env.step(int(action))\n",
        "\n",
        "            # Pack into transition.\n",
        "            transition = Transition(obs, action, reward, next_obs, done)\n",
        "\n",
        "            # Add transition to memory.\n",
        "            if agent_memory: # check if agent has memory\n",
        "              agent_memory.push(transition)\n",
        "\n",
        "            # Add reward to episode return.\n",
        "            episode_return += reward\n",
        "\n",
        "            # Set obs to next obs before next environment step. CRITICAL!!!\n",
        "            obs = next_obs\n",
        "\n",
        "            # Increment timestep counter\n",
        "            timesteps += 1\n",
        "\n",
        "            # Maybe learn every timestep\n",
        "            if train_every_timestep and (timesteps % 4 == 0) and agent_memory and agent_memory.is_ready(): # Make sure memory is ready\n",
        "                # First sample memory and then pass the result to the learn function\n",
        "                memory = agent_memory.sample()\n",
        "                agent_params, agent_learner_state = agent_learn_func(\n",
        "                                                        next(rng),\n",
        "                                                        agent_params,\n",
        "                                                        agent_learner_state,\n",
        "                                                        memory\n",
        "                                                    )\n",
        "\n",
        "        episode_returns.append(episode_return)\n",
        "\n",
        "        # At the end of every episode we do a learn step.\n",
        "        if agent_memory and agent_memory.is_ready(): # Make sure memory is ready\n",
        "\n",
        "            for _ in range(learn_steps_per_episode):\n",
        "                # First sample memory and then pass the result to the learn function\n",
        "                memory = agent_memory.sample()\n",
        "                agent_params, agent_learner_state = agent_learn_func(\n",
        "                                                        next(rng),\n",
        "                                                        agent_params,\n",
        "                                                        agent_learner_state,\n",
        "                                                        memory\n",
        "                                                    )\n",
        "\n",
        "        if (episode % evaluator_period) == 0: # Do evaluation\n",
        "\n",
        "            evaluator_episode_return = 0\n",
        "            for eval_episode in range(evaluation_episodes):\n",
        "                obs = eval_env.reset()\n",
        "                done = False\n",
        "                while not done:\n",
        "                    action, _ = agent_select_action_func(\n",
        "                                    next(rng),\n",
        "                                    agent_params,\n",
        "                                    agent_actor_state,\n",
        "                                    np.array(obs),\n",
        "                                    evaluation=True\n",
        "                                )\n",
        "\n",
        "                    obs, reward, done, _ = eval_env.step(int(action))\n",
        "\n",
        "                    evaluator_episode_return += reward\n",
        "\n",
        "            evaluator_episode_return /= evaluation_episodes\n",
        "\n",
        "            evaluator_episode_returns.append(evaluator_episode_return)\n",
        "\n",
        "            logs = [\n",
        "                    f\"Episode: {episode}\",\n",
        "                    f\"Episode Return: {episode_return}\",\n",
        "                    f\"Average Episode Return: {np.mean(episode_returns[-20:])}\",\n",
        "                    f\"Evaluator Episode Return: {evaluator_episode_return}\"\n",
        "            ]\n",
        "\n",
        "            print(*logs, sep=\"\\t\") # Print the logs\n",
        "\n",
        "    env.close()\n",
        "    eval_env.close()\n",
        "\n",
        "    return episode_returns, evaluator_episode_returns"
      ]
    },
    {
      "cell_type": "markdown",
      "metadata": {
        "id": "CTPlIq4oDBPY"
      },
      "source": [
        "##2. Случайный поиск политики (RPS)\n",
        "В разделе 1 мы использовали фиксированный набор параметров для нашей политики. То есть мы не изучали параметры $\\pi$ $\\theta$, мы просто сохранили их фиксированными ( `params = [1,-2,2,-1]`).\n",
        "\n",
        "Теперь мы реализуем случайный поиск политики (RPS), который представляет собой алгоритм, который случайным образом пробует различные параметры политики и отслеживает лучшие параметры, найденные на данный момент. Мы скажем, что параметры политики $\\theta_A$ лучше параметров $\\theta_B$, если средний возврат эпизода, достигнутый за последние 20 эпизодов политикой с параметрами $\\theta_A$, больше, чем у политики с параметрами $\\theta_B$.\n",
        "\n",
        "Чтобы отслеживать «текущие» параметры, а также «лучшие» параметры, мы будем использовать [NamedTuple](https://www.geeksforgeeks.org/namedtuple-in-python/)."
      ]
    },
    {
      "cell_type": "code",
      "execution_count": 12,
      "metadata": {
        "id": "1DcaC-PQRjM1",
        "colab": {
          "base_uri": "https://localhost:8080/"
        },
        "outputId": "f0d12927-576b-4021-e1fe-709825b6b3a2"
      },
      "outputs": [
        {
          "output_type": "stream",
          "name": "stdout",
          "text": [
            "Best params: [0. 0. 0. 0.]\n",
            "Current params: [-1. -1. -1. -1.]\n"
          ]
        }
      ],
      "source": [
        "# Parameter container for Random Policy Search\n",
        "RandomPolicySearchParams = collections.namedtuple(\"RandomPolicySearchParams\", [\"current\", \"best\"])\n",
        "\n",
        "# TEST: store two different sets of parameters\n",
        "current_params = np.ones(obs_shape) * -1\n",
        "best_params = np.zeros(obs_shape)\n",
        "rps_params = RandomPolicySearchParams(current_params, best_params)\n",
        "\n",
        "# How to access the best or current params.\n",
        "print(f\"Best params: {rps_params.best}\")\n",
        "print(f\"Current params: {rps_params.current}\")"
      ]
    },
    {
      "cell_type": "markdown",
      "metadata": {
        "id": "v91pDDzGex9a"
      },
      "source": [
        "Далее мы реализуем следующее:\n",
        "- **Функция выбора действия RPS** - определяет, как мы выбираем действия с учетом набора параметров.\n",
        "- **Модуль памяти RPS** - определяет, какой опыт хранить из взаимодействий со средой.\n",
        "- **Функция обучения RPS** - определяет, как мы обновляем и улучшаем параметры нашей политики."
      ]
    },
    {
      "cell_type": "markdown",
      "metadata": {
        "id": "0tExceGeGNYH"
      },
      "source": [
        "### Функция выбора действия RPS\n",
        "Давайте реализуем функцию с именем `random_policy_search_choose_action`, которую мы можем передать в цикл обучения. Функция должна принимать несколько аргументов, чтобы она могла хорошо взаимодействовать с нашим обобщенным циклом обучения, но вам нужно будет использовать только три из них - `params`, `obs` и `evaluation`.\n",
        "\n",
        "- `params` - это экземпляр `RandomPolicySearchParams` с \"current\" и \"best\".\n",
        "- `obs` - это последнее наблюдение из среды.\n",
        "- `evaluation` - это логическое значение, которое указывает, следует ли нам использовать параметры \"current\" или \"best\". Когда `evaluation==True`, мы должны использовать параметры \"best\", в противном случае мы должны использовать параметры \"current\".\n",
        "\n",
        "**Упражнение 3:** Реализуйте функцию `random_policy_search_choose_action`, как описано выше. Вам следует использовать метод `linear_policy`, который мы определили ранее. Вам также понадобится `jax.lax.select()` для условного возврата \"лучшего\" действия или \"текущего\" действия."
      ]
    },
    {
      "cell_type": "code",
      "execution_count": 16,
      "metadata": {
        "id": "1kmwT35JRjM1"
      },
      "outputs": [],
      "source": [
        "def random_policy_search_choose_action(\n",
        "    key,\n",
        "    params,\n",
        "    actor_state,\n",
        "    obs,\n",
        "    evaluation=False\n",
        "):\n",
        "  \"\"\"Random policy search select action method.\n",
        "\n",
        "  Args:\n",
        "    key: a random number (seed). Not used in this function.\n",
        "    params: the agent's parameters. In this case an instance of `RandomPolicySearchParams`\n",
        "    actor_state: some extra information about the actor. Not used in this function.\n",
        "    obs: the latest observation.\n",
        "    evaluation: a boolean indicating whether to use the best \"parameters\" or the \"current\" ones.\n",
        "\n",
        "  Returns:\n",
        "    The chosen action and the updated actor_state. In this function the actor_state is not updated.\n",
        "  \"\"\"\n",
        "\n",
        "  # YOUR CODE\n",
        "\n",
        "  best_action = linear_policy(params.best, obs)\n",
        "\n",
        "  current_action = linear_policy(params.current, obs)\n",
        "\n",
        "  action = jax.lax.select(\n",
        "      evaluation,\n",
        "      best_action,\n",
        "      current_action\n",
        "  )\n",
        "\n",
        "  # END YOUR CODE\n",
        "\n",
        "  return action, actor_state"
      ]
    },
    {
      "cell_type": "code",
      "execution_count": 17,
      "metadata": {
        "id": "YE4xoAgyI3kG",
        "colab": {
          "base_uri": "https://localhost:8080/"
        },
        "outputId": "ead66fc2-0cf4-4e35-dbdb-1482224a50a0"
      },
      "outputs": [
        {
          "output_type": "stream",
          "name": "stdout",
          "text": [
            "Your function looks correct.\n"
          ]
        }
      ],
      "source": [
        "# @title Проверка упр 3 (run me) {display-mode: \"form\"}\n",
        "\n",
        "def check_random_policy_search_choose_action(choose_action):\n",
        "  key = None # not used\n",
        "  actor_state = None # not used\n",
        "\n",
        "  # obs\n",
        "  obs = np.ones(obs_shape)\n",
        "\n",
        "  evaluation=False\n",
        "  current_params = np.ones(obs_shape) * -1\n",
        "  best_params = np.ones(obs_shape)\n",
        "  rps_params = RandomPolicySearchParams(current_params, best_params)\n",
        "  action, actor_state = choose_action(key,rps_params,actor_state,obs,evaluation)\n",
        "  if action != 0:\n",
        "    return False\n",
        "\n",
        "  evaluation=True\n",
        "  current_params = np.ones(obs_shape) * -1\n",
        "  best_params = np.ones(obs_shape)\n",
        "  rps_params = RandomPolicySearchParams(current_params, best_params)\n",
        "  action, actor_state = choose_action(key,rps_params,actor_state,obs,evaluation)\n",
        "  if action != 1:\n",
        "    return False\n",
        "\n",
        "  return True\n",
        "\n",
        "try:\n",
        "  if check_random_policy_search_choose_action(random_policy_search_choose_action):\n",
        "    print(\"Your function looks correct.\")\n",
        "  else:\n",
        "    print(\"Your function looks incorrect.\")\n",
        "except Exception as e:\n",
        "    print(\"An Error Occured: {}\".format(e))"
      ]
    },
    {
      "cell_type": "markdown",
      "metadata": {
        "id": "6zu51ep7Sh0M"
      },
      "source": [
        "### Память агента RPS\n",
        "\n",
        "Для алгоритма поиска случайной политики нам нужно будет отслеживать средний возврат эпизода для последних 50 эпизодов. Помните, что мы сказали, что «текущие» параметры будут считаться «лучшими» параметрами, если средний возврат эпизода при использовании этих параметров больше предыдущего лучшего среднего возврата эпизода.\n",
        "\n",
        "Мы будем использовать интерфейс памяти общего назначения, который довольно прост. Модуль памяти должен иметь три метода. Первый — это функция `memory.push(<transition>)`, которая добавляет некоторую информацию о последнем переходе среды в память. Второй — это функция `memory.is_ready()`, которая проверяет, готова ли память к обучению. Наконец, функция `memory.sample()` должна возвращать последний набор воспоминаний, которые можно передать в `agent_learn_func`.\n",
        "\n",
        "#### Память среднего возврата эпизода\n",
        "Мы создали для вас простой модуль памяти агента. Он хранит `epsisode_returns` последних 20 эпизодов. Прочитайте нашу реализацию ниже и посмотрите, сможете ли вы ее понять. Метод `memory.sample()` возвращает средний возврат эпизода за последние 20 эпизодов."
      ]
    },
    {
      "cell_type": "code",
      "execution_count": 18,
      "metadata": {
        "id": "YVkTBIK5RjM1"
      },
      "outputs": [],
      "source": [
        "class AverageEpisodeReturnBuffer:\n",
        "\n",
        "    def __init__(self, num_episodes_to_store=50):\n",
        "        \"\"\"\n",
        "        This class implements an agent memory that stores the average episode\n",
        "        return over the last 50 episodes.\n",
        "        \"\"\"\n",
        "        self.num_episodes_to_store = num_episodes_to_store\n",
        "        self.episode_return_buffer = []\n",
        "        self.current_episode_return = 0\n",
        "\n",
        "    def push(self, transition):\n",
        "        self.current_episode_return += transition.reward\n",
        "\n",
        "        if transition.done: # If the episode is done\n",
        "            # Add episode return to buffer\n",
        "            self.episode_return_buffer.append(self.current_episode_return)\n",
        "\n",
        "            # Reset episode return\n",
        "            self.current_episode_return = 0\n",
        "\n",
        "\n",
        "    def is_ready(self):\n",
        "        return len(self.episode_return_buffer) == self.num_episodes_to_store\n",
        "\n",
        "    def sample(self):\n",
        "        average_episode_return = np.mean(self.episode_return_buffer)\n",
        "\n",
        "        # Clear episode return buffer\n",
        "        self.episode_return_buffer = []\n",
        "\n",
        "        return average_episode_return"
      ]
    },
    {
      "cell_type": "markdown",
      "metadata": {
        "id": "0oXBsSa2KjWE"
      },
      "source": [
        "### Функция обучения RPS\n",
        "Наконец, нам нужно реализовать функцию `random_policy_search_learn` для нашего алгоритма поиска случайной политики. Функция обучения довольно проста. Все, что нам нужно сделать, это проверить, лучше ли текущие параметры, чем лучшие параметры. Если они лучше, то установите лучшие параметры в качестве текущих параметров и случайным образом сгенерируйте новый набор текущих параметров.\n",
        "\n",
        "**Упражнение 4:** Напишите функцию для случайной генерации новых весов с использованием JAX. Веса должны быть выбраны из интервала `[-2,2]`.\n",
        "\n",
        "**Полезные функции:**\n",
        "*   `jax.random.uniform` ([docs](https://jax.readthedocs.io/en/latest/_autosummary/jax.random.uniform.html#jax.random.uniform))\n",
        "\n"
      ]
    },
    {
      "cell_type": "code",
      "execution_count": 19,
      "metadata": {
        "id": "8V2yFM2XMjGW"
      },
      "outputs": [],
      "source": [
        "def get_new_random_weights(random_key, old_weights, minval=-2.0, maxval=2.0):\n",
        "    new_weights_shape = old_weights.shape # you will need to use these values\n",
        "    new_weights_dtype = old_weights.dtype # you will need to use these values\n",
        "\n",
        "    # YOUR CODE\n",
        "\n",
        "    new_params = jax.random.uniform(\n",
        "        random_key,\n",
        "        shape=new_weights_shape,\n",
        "        dtype=new_weights_dtype,\n",
        "        minval=minval,\n",
        "        maxval=maxval\n",
        "    )\n",
        "\n",
        "    # END YOUR CODE\n",
        "\n",
        "    return new_params"
      ]
    },
    {
      "cell_type": "code",
      "execution_count": 20,
      "metadata": {
        "id": "T8ifHTKGQlAd",
        "colab": {
          "base_uri": "https://localhost:8080/"
        },
        "outputId": "90294c76-cb65-4385-8dd3-2e5b72c54aa3"
      },
      "outputs": [
        {
          "output_type": "stream",
          "name": "stdout",
          "text": [
            "Function is correct!\n"
          ]
        }
      ],
      "source": [
        "# @title Проверка упр 4 (run me) {display-mode: \"form\"}\n",
        "\n",
        "def check_get_new_random_weights(get_new_random_weights):\n",
        "  old_weights = np.ones(obs_shape, \"float32\")\n",
        "  random_key = jax.random.PRNGKey(42)\n",
        "\n",
        "  # Case 1\n",
        "  new_weights = get_new_random_weights(random_key, old_weights, minval=-2.0, maxval=2.0)\n",
        "\n",
        "  if jnp.array_equal(new_weights, jnp.array([ 0.29657745,1.4265499, -1.7621555, -1.7505779 ])):\n",
        "    print(\"Function is correct!\")\n",
        "  else:\n",
        "    print(\"Something is wrong.\")\n",
        "\n",
        "try:\n",
        "  check_get_new_random_weights(get_new_random_weights)\n",
        "except Exception as e:\n",
        "    print(\"An Error Occured: {}\".format(e))"
      ]
    },
    {
      "cell_type": "markdown",
      "metadata": {
        "id": "2Djxc9j-LzkM"
      },
      "source": [
        "Наша функция обучения получает память в форме среднего возврата эпизода из `AverageEpisodeReturnMemory`, которую мы реализовали ранее. Мы можем использовать это для сравнения текущих параметров с лучшими параметрами. Но нам также нужно будет отслеживать лучший средний возврат эпизода для функции обучения. Для этого мы можем использовать аргумент `learn_state`, который передается в `agent_learn_func` в нашем цикле обучения. Как и в случае с `RandomPolicySearchParams`, мы будем использовать NamedTuple для хранения `best_average_episode_return` в `learn_state`."
      ]
    },
    {
      "cell_type": "code",
      "execution_count": 21,
      "metadata": {
        "id": "4cSH4uYmRjM2",
        "colab": {
          "base_uri": "https://localhost:8080/"
        },
        "outputId": "7e74fcd3-bfb5-4608-fe33-66f763923365"
      },
      "outputs": [
        {
          "output_type": "stream",
          "name": "stdout",
          "text": [
            "Initial best average episode return: -inf\n"
          ]
        }
      ],
      "source": [
        "# A NamedTuple to store the best average episode return so far\n",
        "RandomPolicyLearnState = collections.namedtuple(\n",
        "  \"RandomPolicyLearnState\",\n",
        "  [\"best_average_episode_return\"]\n",
        ")\n",
        "\n",
        "# Test\n",
        "initial_learn_state = RandomPolicyLearnState(best_average_episode_return=-float(\"inf\"))\n",
        "print(\"Initial best average episode return:\", initial_learn_state.best_average_episode_return)"
      ]
    },
    {
      "cell_type": "markdown",
      "metadata": {
        "id": "PxZXdP8bOu6b"
      },
      "source": [
        "Теперь у нас есть все необходимое для реализации функции `random_policy_search_learn`.\n",
        "\n",
        "**Упражнение 5:** Реализуйте функцию `random_policy_search_learn`. Функция должна проверять, лучше ли «текущие» параметры, чем «лучшие» параметры, сравнивая `current_average_episode_return` с `best_average_episode_return`. Функция также должна обновлять `learn_state`."
      ]
    },
    {
      "cell_type": "code",
      "execution_count": 22,
      "metadata": {
        "id": "Te_Q3qzmZcN_"
      },
      "outputs": [],
      "source": [
        "def random_policy_search_learn(key, params, learn_state, memory):\n",
        "    best_params = params.best\n",
        "    current_params = params.current\n",
        "\n",
        "    current_average_episode_return = memory # the memory contains the average episode return\n",
        "    best_average_episode_return = learn_state.best_average_episode_return\n",
        "\n",
        "\n",
        "    # YOUR CODE\n",
        "\n",
        "    best_params = jax.lax.select(\n",
        "        current_average_episode_return > best_average_episode_return,\n",
        "        current_params,\n",
        "        best_params\n",
        "    )\n",
        "\n",
        "    best_average_episode_return = jax.lax.select(\n",
        "        current_average_episode_return > best_average_episode_return,\n",
        "        current_average_episode_return,\n",
        "        best_average_episode_return\n",
        "    )\n",
        "\n",
        "    # END YOUR CODE\n",
        "\n",
        "    # Generate new random parameters\n",
        "    new_params = get_new_random_weights(key, current_params)\n",
        "\n",
        "    # Bundle weights in RandomPolicySearchParams NamedTuple\n",
        "    params = RandomPolicySearchParams(current=new_params, best=best_params)\n",
        "\n",
        "    return params, RandomPolicyLearnState(best_average_episode_return)"
      ]
    },
    {
      "cell_type": "code",
      "execution_count": 23,
      "metadata": {
        "id": "CXHV4k2iBLBF",
        "colab": {
          "base_uri": "https://localhost:8080/"
        },
        "outputId": "2fae3bad-3d37-4bb9-996a-69f3d2b30a5a"
      },
      "outputs": [
        {
          "output_type": "stream",
          "name": "stdout",
          "text": [
            "Your function looks correct.\n"
          ]
        }
      ],
      "source": [
        "#@title Проверка упр 5 {display-mode: \"form\"}\n",
        "\n",
        "params = RandomPolicySearchParams(np.ones(obs_shape, \"float32\"), np.ones(obs_shape, \"float32\") * -1)\n",
        "learn_state = RandomPolicyLearnState(10)\n",
        "memory = 11\n",
        "key = jax.random.PRNGKey(42)\n",
        "\n",
        "try:\n",
        "  new_params, new_learn_state = random_policy_search_learn(key, params, learn_state, memory)\n",
        "\n",
        "  if not jnp.array_equal(new_params.current, jnp.array([ 0.29657745,  1.4265499 , -1.7621555 , -1.7505779 ])):\n",
        "    print(\"Your function is incorrect.\")\n",
        "\n",
        "  elif not jnp.array_equal(new_params.best, jnp.array([1., 1., 1., 1.])):\n",
        "    print(\"Your function is incorrect.\")\n",
        "\n",
        "  elif new_learn_state.best_average_episode_return != 11:\n",
        "    print(\"Your function is incorrect.\")\n",
        "\n",
        "  else:\n",
        "    print(\"Your function looks correct.\")\n",
        "except Exception as e:\n",
        "    print(\"An Error Occured: {}\".format(e))"
      ]
    },
    {
      "cell_type": "markdown",
      "metadata": {
        "id": "5Ol_AxnMBdgP"
      },
      "source": [
        "### Цикл обучения RPS\n",
        "Теперь мы можем собрать все вместе, передав модуль `memory`, функцию `learn` и функцию `choose_action` в цикл обучения. Чтобы ускорить наш алгоритм, мы будем использовать `jax.jit` в функции `learn` и функции `choose_action`."
      ]
    },
    {
      "cell_type": "code",
      "execution_count": 24,
      "metadata": {
        "id": "Qx57tf7vRjM3",
        "colab": {
          "base_uri": "https://localhost:8080/",
          "height": 680
        },
        "outputId": "91cfe120-d10f-4cfc-eb44-fa74edcc3c93"
      },
      "outputs": [
        {
          "output_type": "stream",
          "name": "stdout",
          "text": [
            "Starting training. This may take up to 5 minutes to complete.\n",
            "Episode: 0\tEpisode Return: 80.0\tAverage Episode Return: 80.0\tEvaluator Episode Return: 126.125\n",
            "Episode: 100\tEpisode Return: 8.0\tAverage Episode Return: 86.15\tEvaluator Episode Return: 127.125\n",
            "Episode: 200\tEpisode Return: 200.0\tAverage Episode Return: 18.95\tEvaluator Episode Return: 133.25\n",
            "Episode: 300\tEpisode Return: 79.0\tAverage Episode Return: 12.55\tEvaluator Episode Return: 159.875\n",
            "Episode: 400\tEpisode Return: 200.0\tAverage Episode Return: 18.35\tEvaluator Episode Return: 161.375\n",
            "Episode: 500\tEpisode Return: 8.0\tAverage Episode Return: 87.55\tEvaluator Episode Return: 200.0\n",
            "Episode: 600\tEpisode Return: 49.0\tAverage Episode Return: 68.15\tEvaluator Episode Return: 200.0\n",
            "Episode: 700\tEpisode Return: 69.0\tAverage Episode Return: 110.55\tEvaluator Episode Return: 200.0\n",
            "Episode: 800\tEpisode Return: 68.0\tAverage Episode Return: 11.9\tEvaluator Episode Return: 200.0\n",
            "Episode: 900\tEpisode Return: 27.0\tAverage Episode Return: 37.85\tEvaluator Episode Return: 200.0\n",
            "Episode: 1000\tEpisode Return: 9.0\tAverage Episode Return: 22.3\tEvaluator Episode Return: 200.0\n"
          ]
        },
        {
          "output_type": "display_data",
          "data": {
            "text/plain": [
              "<Figure size 640x480 with 1 Axes>"
            ],
            "image/png": "[encoded data removed]"
          },
          "metadata": {}
        }
      ],
      "source": [
        "# JIT the learn and choose action functions\n",
        "random_policy_search_learn_jit = jax.jit(random_policy_search_learn)\n",
        "random_policy_search_choose_action_jit = jax.jit(random_policy_search_choose_action)\n",
        "\n",
        "# Initialise the parameters\n",
        "initial_weights = np.ones(obs_shape, \"float32\")\n",
        "initial_params = RandomPolicySearchParams(initial_weights, initial_weights)\n",
        "\n",
        "# Initialise the learn state\n",
        "initial_learn_state = RandomPolicyLearnState(best_average_episode_return=-float(\"inf\"))\n",
        "\n",
        "# Initialise memory\n",
        "memory = AverageEpisodeReturnBuffer(num_episodes_to_store=50)\n",
        "\n",
        "# Run the training loop\n",
        "print(\"Starting training. This may take up to 5 minutes to complete.\")\n",
        "chex.clear_trace_counter()\n",
        "episode_return, evaluator_episode_returns = run_training_loop(\n",
        "                                        env_name,\n",
        "                                        initial_params,\n",
        "                                        random_policy_search_choose_action_jit,\n",
        "                                        None, # no actor state\n",
        "                                        random_policy_search_learn_jit,\n",
        "                                        initial_learn_state,\n",
        "                                        memory,\n",
        "                                        num_episodes=1001,\n",
        "                                        video_subdir=\"rps\"\n",
        "                                    )\n",
        "\n",
        "# Plot graph of evaluator episode returns\n",
        "plt.plot(np.linspace(0, 1000, len(evaluator_episode_returns)), evaluator_episode_returns)\n",
        "plt.title(\"Random Policy Search\")\n",
        "plt.xlabel(\"Episodes\")\n",
        "plt.ylabel(\"Episode Return\")\n",
        "plt.show()"
      ]
    },
    {
      "cell_type": "markdown",
      "metadata": {
        "id": "TG10FG6uS05A"
      },
      "source": [
        "Надеюсь, вы нашли набор оптимальных параметров на CartPole (возврат эпизода достигает `200`). В ячейке ниже вы можете посмотреть несколько видеороликов агента, выполняющего задание."
      ]
    },
    {
      "cell_type": "code",
      "execution_count": 25,
      "metadata": {
        "id": "KgayDJ7KWC4C",
        "colab": {
          "base_uri": "https://localhost:8080/",
          "height": 288
        },
        "outputId": "ce632c77-0423-46e2-9880-34ba850997a6"
      },
      "outputs": [
        {
          "output_type": "execute_result",
          "data": {
            "text/plain": [
              "<IPython.core.display.HTML object>"
            ],
            "text/html": [
              "\n",
              "<video width=400 controls>\n",
              "      <source src=\"data:video/mp4;base64,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\" type=\"video/mp4\">\n",
              "</video>\n"
            ]
          },
          "metadata": {},
          "execution_count": 25
        }
      ],
      "source": [
        "#@title Visualise Policy {display-mode: \"form\"}\n",
        "#@markdown Choose an episode number that is a multiple of 100 and less than or equal to 2000, and **run** this cell.\n",
        "episode_number = 1000 #@param {type:\"number\"}\n",
        "\n",
        "assert (episode_number % 100) == 0, \"Episode number must be a multiple of 100 since we only record every 100th episode.\"\n",
        "assert episode_number < 1001, \"Episode number must be less than or equal to 2000\"\n",
        "\n",
        "eval_episode_number = int(episode_number / 100 * 8)\n",
        "video_path = f\"./video/rps/eval/rl-video-episode-{eval_episode_number}.mp4\"\n",
        "\n",
        "mp4 = open(video_path,'rb').read()\n",
        "data_url = \"data:video/mp4;base64,\" + b64encode(mp4).decode()\n",
        "HTML(\"\"\"\n",
        "<video width=400 controls>\n",
        "      <source src=\"%s\" type=\"video/mp4\">\n",
        "</video>\n",
        "\"\"\" % data_url)"
      ]
    },
    {
      "cell_type": "markdown",
      "metadata": {
        "id": "Xwf1IKKbrrVn"
      },
      "source": [
        "Итак, случайный поиск политики справился с этой задачей довольно хорошо. Однако здесь происходит очень мало (если вообще происходит) реального *обучения*. Далее давайте рассмотрим реализацию простого алгоритма RL, который может использовать свой опыт для руководства нашим поиском оптимальной политики, а не просто искать ее случайным образом."
      ]
    },
    {
      "cell_type": "markdown",
      "metadata": {
        "id": "XEnSjZVESrxc"
      },
      "source": [
        "## 3. Градиенты политики  (Policy Gradients, PG)\n",
        "Как обсуждалось, цель RL — найти политику, которая максимизирует ожидаемое совокупное вознаграждение (возврат), которое агент получает от среды. Мы можем записать ожидаемый возврат политики как:\n",
        "\n",
        "$J(\\pi_\\theta)=\\mathrm{E}_{\\tau\\sim\\pi_\\theta}\\ [R(\\tau)]$,\n",
        "\n",
        "где $\\pi_\\theta$ — это политика, параметризованная $\\theta$, $\\mathrm{E}$ означает *ожидание*, $\\tau$ — это сокращение для \"*эпизод*\", $\\tau\\sim\\pi_\\theta$ — это сокращение для \"*эпизоды, выбранные с использованием политики* $\\pi_\\theta$\", а $R(\\tau)$ — это возврат эпизода $\\tau$.\n",
        "\n",
        "Затем, цель в RL — найти параметры $\\theta$, которые максимизируют функцию $J(\\pi_\\theta)$. Один из способов найти эти параметры — выполнить градиентный подъем по $J(\\pi_\\theta)$ относительно параметров $\\theta$:\n",
        "\n",
        "$\\theta_{k+1}=\\theta_k + \\alpha \\nabla J(\\pi_\\theta)|_{\\theta_{k}}$,\n",
        "\n",
        "где $\\nabla J(\\pi_\\theta)|_{\\theta_{k}}$ — градиент ожидаемой доходности относительно параметров политики $\\theta_k$, а $\\alpha$ — размер шага. Эта величина, $\\nabla J(\\pi_\\theta)$, также называется **градиентом политики** и очень важна в RL. Если мы сможем вычислить градиент политики, то у нас будет средство, с помощью которого можно напрямую оптимизировать нашу политику.\n",
        "\n",
        "Как оказалось, у нас есть способ вычислить градиент политики, и математический вывод можно найти [здесь](https://spinningup.openai.com/en/latest/spinningup/rl_intro3.html). Но для этого руководства мы опустим вывод и просто дадим вам результат:\n",
        "\n",
        "$\\nabla_{\\theta} J(\\pi_{\\theta})=\\underset{\\tau \\sim \\pi_{\\theta}}{\\mathrm{E}}[\\sum_{t=0}^{T} \\nabla_{\\theta} \\log \\pi_{\\theta}(a_{t} \\mid s_{t}) R(\\tau)]$\n",
        "\n",
        "Неформально, градиент политики равен градиенту логарифма вероятности выбранного действия, умноженного на возврат эпизода, в котором было предпринято действие.\n"
      ]
    },
    {
      "cell_type": "markdown",
      "metadata": {
        "id": "BTnTzgtSuy-y"
      },
      "source": [
        "### REINFORCE\n",
        "REINFORCE — это простой алгоритм RL, который использует градиент политики для поиска оптимальной политики путем увеличения вероятности выбора действий (усиливающих действий), которые, как правило, приводят к эпизодам с высокой отдачей.\n",
        "\n",
        "**Упражнение 6:** Реализуйте функцию, которая берет вероятность действия и отдачу эпизода, в котором действие было предпринято, и вычисляет логарифм вероятности, умноженный на отдачу. Убедитесь, что вы используете JAX.\n",
        "\n",
        "**Полезные функции:**\n",
        "*   `jax.numpy.log`([docs](https://jax.readthedocs.io/en/latest/_autosummary/jax.numpy.log.html))"
      ]
    },
    {
      "cell_type": "code",
      "execution_count": 26,
      "metadata": {
        "id": "bJObUsoUrOyV"
      },
      "outputs": [],
      "source": [
        "def compute_weighted_log_prob(action_prob, episode_return):\n",
        "\n",
        "    # YOUR CODE\n",
        "\n",
        "    log_prob = jax.numpy.log(action_prob)\n",
        "\n",
        "    weighted_log_prob = log_prob * episode_return\n",
        "\n",
        "    # END YOUR CODE\n",
        "\n",
        "    return weighted_log_prob"
      ]
    },
    {
      "cell_type": "code",
      "execution_count": 27,
      "metadata": {
        "id": "eZPoTwa1Gbm1",
        "colab": {
          "base_uri": "https://localhost:8080/"
        },
        "outputId": "223ef68f-c1d0-4910-a3f2-06c6a4b21840"
      },
      "outputs": [
        {
          "output_type": "stream",
          "name": "stdout",
          "text": [
            "Looks correct.\n"
          ]
        }
      ],
      "source": [
        "#@title Проверка упр 6 {display-mode: \"form\"}\n",
        "\n",
        "try:\n",
        "  action_prob = 0.8\n",
        "  episode_return = 100\n",
        "  result = compute_weighted_log_prob(action_prob, episode_return)\n",
        "  if result != -22.314354:\n",
        "    print(\"Your implementation looks incorrect.\")\n",
        "  else:\n",
        "    print(\"Looks correct.\")\n",
        "except Exception as e:\n",
        "    print(\"An Error Occured: {}\".format(e))"
      ]
    },
    {
      "cell_type": "markdown",
      "metadata": {
        "id": "NmgW9UJ3tIpl"
      },
      "source": [
        "### Rewards-to-go\n",
        "Выполнение градиентного подъема по градиенту логарифма вероятности действия, взвешенного по возврату эпизода, будет иметь тенденцию повышать вероятность действий, которые были в эпизодах с высоким возвратом, независимо от того, *где* в эпизоде ​​было выполнено действие. Это на самом деле не имеет большого смысла, потому что действие ближе к концу эпизода может быть подкреплено, потому что много вознаграждения было собрано ранее в эпизоде, *до* того, как было выполнено действие. Агенты RL должны на самом деле подкреплять действия только на основе их *последствий*. Вознаграждения, полученные до выполнения действия, не влияют на то, насколько хорошим было это действие: только вознаграждения, которые приходят после. Накопленные вознаграждения, полученные после выполнения действия, называются **вознаграждениями-к-переходу** и могут быть вычислены как:\n",
        "\n",
        "$\\hat{R}_i=\\sum_{t=i}^Tr_t$\n",
        "\n",
        "Сравните это с доходностью эпизода:\n",
        "\n",
        "$R(\\tau)=\\sum_{t=0}^Tr_t$\n",
        "\n",
        "Мы можем повысить надежность градиента политики, заменив доходность эпизода на вознаграждения-к-переходу. Градиент политики с оставшимися наградами задается следующим образом:\n",
        "\n",
        "$\\nabla_{\\theta} J(\\pi_{\\theta})=\\underset{\\tau \\sim \\pi_{\\theta}}{\\mathrm{E}}[\\sum_{t=0}^{T} \\nabla_{\\theta} \\log \\pi_{\\theta}(a_{t} \\mid s_{t}) \\hat{R}_t]$\n",
        "\n",
        "**Упражнение 7:** Реализуйте функцию, которая берет список всех наград, полученных в эпизоде, и вычисляет оставшиеся награды. Не беспокойтесь об использовании JAX в этой функции. Вы можете использовать обычные операции Python, такие как `for-loops`."
      ]
    },
    {
      "cell_type": "code",
      "execution_count": 28,
      "metadata": {
        "id": "nV1Hww8E3dUJ"
      },
      "outputs": [],
      "source": [
        "def compute_rewards_to_go(rewards):\n",
        "    \"\"\"\n",
        "    This function should take a list of rewards as input and\n",
        "    compute the rewards-to-go for each timestep.\n",
        "\n",
        "    EXAMPLE: compute_rewards_to_go([1,2,3,4]) = [10, 9, 7, 4]\n",
        "\n",
        "    Arguments:\n",
        "        rewards[t] is the reward at time step t.\n",
        "\n",
        "    Returns:\n",
        "        rewards_to_go[t] should be the reward-to-go at timestep t.\n",
        "    \"\"\"\n",
        "\n",
        "    rewards_to_go = []\n",
        "\n",
        "    # YOUR CODE\n",
        "    rewards_to_go = [sum(rewards[t:]) for t in range(len(rewards))]\n",
        "\n",
        "\n",
        "    # END YOUR CODE\n",
        "\n",
        "    return rewards_to_go"
      ]
    },
    {
      "cell_type": "code",
      "execution_count": 29,
      "metadata": {
        "id": "hLVaVRp28YGI",
        "colab": {
          "base_uri": "https://localhost:8080/"
        },
        "outputId": "c07568ed-88f2-43cb-f32c-178986d56cec"
      },
      "outputs": [
        {
          "output_type": "stream",
          "name": "stdout",
          "text": [
            "Looks correct.\n"
          ]
        }
      ],
      "source": [
        "#@title Проверка упр 7 {display-mode: \"form\"}\n",
        "\n",
        "try:\n",
        "  result = compute_rewards_to_go([1,2,3,4])\n",
        "\n",
        "  if result != [10, 9, 7, 4]:\n",
        "    print(\"There is a problem with your implementation.\")\n",
        "  else:\n",
        "    print(\"Looks correct.\")\n",
        "except Exception as e:\n",
        "    print(\"An Error Occured: {}\".format(e))\n"
      ]
    },
    {
      "cell_type": "markdown",
      "metadata": {
        "id": "IboxN9MS65i5"
      },
      "source": [
        "### REINFORCE memory\n",
        "Далее нам нужно будет создать новую память агента для хранения вознаграждений $\\hat{R}_t$ вместе с наблюдением $o_t$ и действием $a_t$ на каждом временном шаге. Ниже мы реализовали такой модуль памяти для вас. Функция `memory.sample()` вернет пакет из последних 500 воспоминаний. Вы можете прочитать код, чтобы попытаться понять его, но это не обязательно. Поэтому мы скрываем код по умолчанию."
      ]
    },
    {
      "cell_type": "code",
      "execution_count": 30,
      "metadata": {
        "id": "xhS4V6auRjM3"
      },
      "outputs": [],
      "source": [
        "# @title Реализация памяти (run me) {display-mode: \"form\"}\n",
        "\n",
        "# NamedTuple to store memory\n",
        "EpisodeRewardsToGoMemory = collections.namedtuple(\"EpisodeRewardsToGoMemory\", [\"obs\", \"action\", \"reward_to_go\"])\n",
        "\n",
        "class EpisodeRewardsToGoBuffer:\n",
        "\n",
        "    def __init__(self, num_transitions_to_store=512, batch_size=256):\n",
        "        self.batch_size = batch_size\n",
        "        self.memory_buffer = collections.deque(maxlen=num_transitions_to_store)\n",
        "        self.current_episode_transition_buffer = []\n",
        "\n",
        "    def push(self, transition):\n",
        "        self.current_episode_transition_buffer.append(transition)\n",
        "\n",
        "        if transition.done:\n",
        "\n",
        "            episode_rewards = []\n",
        "            for t in self.current_episode_transition_buffer:\n",
        "                episode_rewards.append(t.reward)\n",
        "\n",
        "            r2g = compute_rewards_to_go(episode_rewards)\n",
        "\n",
        "            for i, t in enumerate(self.current_episode_transition_buffer):\n",
        "                memory = EpisodeRewardsToGoMemory(t.obs, t.action, r2g[i])\n",
        "                self.memory_buffer.append(memory)\n",
        "\n",
        "            # Reset episode buffer\n",
        "            self.current_episode_transition_buffer = []\n",
        "\n",
        "\n",
        "    def is_ready(self):\n",
        "        return len(self.memory_buffer) >= self.batch_size\n",
        "\n",
        "    def sample(self):\n",
        "        random_memory_sample = random.sample(self.memory_buffer, self.batch_size)\n",
        "\n",
        "        obs_batch, action_batch, reward_to_go_batch = zip(*random_memory_sample)\n",
        "\n",
        "        return EpisodeRewardsToGoMemory(\n",
        "            np.stack(obs_batch).astype(\"float32\"),\n",
        "            np.asarray(action_batch).astype(\"int32\"),\n",
        "            np.asarray(reward_to_go_batch).astype(\"int32\")\n",
        "        )\n",
        "\n",
        "\n",
        "# Instantiate Memory\n",
        "REINFORCE_memory = EpisodeRewardsToGoBuffer(num_transitions_to_store=512, batch_size=256)"
      ]
    },
    {
      "cell_type": "markdown",
      "metadata": {
        "id": "Idkav_aSYXvz"
      },
      "source": [
        "### Policy neural network\n",
        "Далее мы будем использовать простую нейронную сеть для аппроксимации политики. Наша нейронная сеть политики будет иметь входной слой, который принимает наблюдение в качестве входных данных и пропускает его через два скрытых слоя, а затем выводит одно скалярное значение для каждого из возможных действий. Таким образом, в CartPole выходной слой будет иметь размер `2`.\n",
        "\n",
        "[Haiku](https://github.com/deepmind/dm-haiku) — это библиотека для реализации нейронных сетей в JAX. Ниже мы реализовали простую функцию для создания сети политики для вас.\n"
      ]
    },
    {
      "cell_type": "code",
      "execution_count": 31,
      "metadata": {
        "id": "j2XO7VkORjM4"
      },
      "outputs": [],
      "source": [
        "def make_policy_network(num_actions: int, layers=[20, 20]) -> hk.Transformed:\n",
        "  \"\"\"Factory for a simple MLP network for the policy.\"\"\"\n",
        "\n",
        "  def policy_network(obs):\n",
        "    network = hk.Sequential(\n",
        "        [\n",
        "            hk.Flatten(),\n",
        "            hk.nets.MLP(layers + [num_actions])\n",
        "        ]\n",
        "    )\n",
        "    return network(obs)\n",
        "\n",
        "  return hk.without_apply_rng(hk.transform(policy_network))"
      ]
    },
    {
      "cell_type": "markdown",
      "metadata": {
        "id": "1GR2y8FjaG-G"
      },
      "source": [
        "У сетей Haiku есть две важные функции, о которых вам нужно знать. Первая — `network.init(<random_key>, <input>)`, которая возвращает набор случайных начальных параметров. Второй метод — `network.apply(<params>, <input>)`, который передает входные данные через сеть, используя предоставленный набор параметров."
      ]
    },
    {
      "cell_type": "code",
      "execution_count": 32,
      "metadata": {
        "id": "fJrn9o-Vatkw",
        "colab": {
          "base_uri": "https://localhost:8080/"
        },
        "outputId": "8175e42c-4b13-4a48-df81-64396904eff1"
      },
      "outputs": [
        {
          "output_type": "stream",
          "name": "stdout",
          "text": [
            "Initial params: dict_keys(['mlp/~/linear_0', 'mlp/~/linear_1', 'mlp/~/linear_2'])\n",
            "Policy network output: [ 0.91155875 -0.3961737 ]\n"
          ]
        }
      ],
      "source": [
        "# Example\n",
        "POLICY_NETWORK = make_policy_network(num_actions=num_actions, layers=[20,20])\n",
        "random_key = jax.random.PRNGKey(42) # random key\n",
        "dummy_obs = np.ones(obs_shape, \"float32\")\n",
        "\n",
        "# Initialise parameters\n",
        "REINFORCE_params = POLICY_NETWORK.init(random_key, dummy_obs)\n",
        "print(\"Initial params:\", REINFORCE_params.keys())\n",
        "\n",
        "# Pass input through the network\n",
        "output = POLICY_NETWORK.apply(REINFORCE_params, dummy_obs)\n",
        "print(\"Policy network output:\", output)\n"
      ]
    },
    {
      "cell_type": "markdown",
      "metadata": {
        "id": "MlouUBvoeunz"
      },
      "source": [
        "Выходы нашей сети политик — [логиты](https://qr.ae/pv4YTe). Чтобы преобразовать это в распределение вероятностей по действиям, мы передаем логиты в функцию [softmax](https://en.wikipedia.org/wiki/Softmax_function).\n",
        "\n",
        "### УСИЛЕНИЕ выбор функции действия\n",
        "\n",
        "**Упражнение 8:** Завершите функцию ниже, которая берет вектор логитов и случайным образом выбирает действие из категориального распределения, заданного логитами.\n",
        "\n",
        "**Полезные функции:**"
      ]
    },
    {
      "cell_type": "code",
      "execution_count": 33,
      "metadata": {
        "id": "m3Z8DxUmeOGJ"
      },
      "outputs": [],
      "source": [
        "def sample_action(random_key, logits):\n",
        "\n",
        "  # YOUR CODE HERE\n",
        "  action = jax.random.categorical(random_key, logits)\n",
        "\n",
        "  # END YOUR code\n",
        "\n",
        "  return action"
      ]
    },
    {
      "cell_type": "code",
      "execution_count": 34,
      "metadata": {
        "id": "5opHJMO0D_Ub",
        "colab": {
          "base_uri": "https://localhost:8080/"
        },
        "outputId": "40c87804-fff8-4b15-fbd8-0d569d9c6202"
      },
      "outputs": [
        {
          "output_type": "stream",
          "name": "stdout",
          "text": [
            "Seems correct.\n"
          ]
        }
      ],
      "source": [
        "#@title Проверка упр 8 {display-mode: \"form\"}\n",
        "\n",
        "try:\n",
        "  random_key = jax.random.PRNGKey(42) # random key\n",
        "  action = sample_action(random_key, np.array([1,2], \"float32\"))\n",
        "  if action != 1:\n",
        "    print(\"Your function is incorrect.\")\n",
        "  else:\n",
        "    print(\"Seems correct.\")\n",
        "except Exception as e:\n",
        "    print(\"An Error Occured: {}\".format(e))"
      ]
    },
    {
      "cell_type": "markdown",
      "metadata": {
        "id": "jP5UH87VRjM4"
      },
      "source": [
        "Теперь мы можем реализовать функцию `REINFORCE_choose_action`. Мы передадим наблюдение через сеть политики для вычисления логитов, а затем передадим логиты в функцию `sample_action` для выбора и действия."
      ]
    },
    {
      "cell_type": "code",
      "execution_count": 35,
      "metadata": {
        "id": "UJTzrDAZ0Ul5"
      },
      "outputs": [],
      "source": [
        "def REINFORCE_choose_action(key, params, actor_state, obs, evaluation=False):\n",
        "  obs = jnp.expand_dims(obs, axis=0) # add dummy batch dim before passing through network\n",
        "\n",
        "  # Pass obs through policy network to compute logits\n",
        "  logits = POLICY_NETWORK.apply(params, obs)\n",
        "  logits = logits[0] # remove batch dim\n",
        "\n",
        "  # Randomly sample action\n",
        "  sampled_action = sample_action(key, logits)\n",
        "\n",
        "  return sampled_action, actor_state"
      ]
    },
    {
      "cell_type": "markdown",
      "metadata": {
        "id": "NI26SLAb7iRo"
      },
      "source": [
        "Теперь, когда мы реализовали функцию `REINFORCE_choose_action`, нам осталось только создать функцию `REINFORCE_learn`. Функция обучения должна использовать функцию `weighted_log_prob`, которую мы создали ранее, чтобы вычислить потери градиента политики и применить обновления градиента к нашей нейронной сети."
      ]
    },
    {
      "cell_type": "markdown",
      "metadata": {
        "id": "36ALCJESQJ8e"
      },
      "source": [
        "### Policy gradient loss\n",
        "\n",
        "\n",
        "**Упражнение 9:** Завершите функцию `policy_gradient_loss` ниже. Функция должна вычислять вероятности действий, пропуская `logits` через функцию softmax. Затем следует извлечь вероятность заданного `action` (используя индексацию массива) и вычислить `weighted_log_prob`, используя функцию, которую мы создали ранее.\n",
        "\n",
        "**Полезные методы:**\n",
        "*   `jax.nn.softmax` ([docs](https://jax.readthedocs.io/en/latest/_autosummary/jax.nn.softmax.html))"
      ]
    },
    {
      "cell_type": "code",
      "execution_count": 38,
      "metadata": {
        "id": "9sUKkqx0RjM4"
      },
      "outputs": [],
      "source": [
        "def policy_gradient_loss(action, logits, reward_to_go):\n",
        "\n",
        "  # YOUR CODE\n",
        "\n",
        "  all_action_probs = jax.nn.softmax(logits)  # Convert logits into probabilities\n",
        "\n",
        "  action_prob = all_action_probs[action]  # Get probability of the taken action\n",
        "\n",
        "  weighted_log_prob = compute_weighted_log_prob(action_prob, reward_to_go)\n",
        "\n",
        "\n",
        "  # END YOUR CODE\n",
        "\n",
        "  loss = - weighted_log_prob # negative because we want gradient `ascent`\n",
        "\n",
        "  return loss"
      ]
    },
    {
      "cell_type": "code",
      "execution_count": 40,
      "metadata": {
        "id": "7AMJvau1FsM5",
        "colab": {
          "base_uri": "https://localhost:8080/"
        },
        "outputId": "99769ae3-f856-47bf-98b9-0aab17598a00"
      },
      "outputs": [
        {
          "output_type": "stream",
          "name": "stdout",
          "text": [
            "3.1326165\n",
            "Your implementation looks wrong.\n"
          ]
        }
      ],
      "source": [
        "#@title Проверка упр 9 {display-mode: \"form\"}\n",
        "\n",
        "try:\n",
        "  result = policy_gradient_loss(1, np.array([1,2], \"float32\"), 10)\n",
        "  if result != 3.1326175:\n",
        "    print(result)\n",
        "    print(\"Your implementation looks wrong.\")\n",
        "  else:\n",
        "    print(\"Looks correct.\")\n",
        "except Exception as e:\n",
        "  print(\"An Error Occured: {}\".format(e))\n"
      ]
    },
    {
      "cell_type": "markdown",
      "metadata": {
        "id": "Gzuqx1jJrwVx"
      },
      "source": [
        "Когда мы делаем шаг обновления градиента политики, мы захотим сделать это, используя пакет опыта, а не просто один опыт, как выше. Мы можем использовать функцию JAX [vmap](https://jax.readthedocs.io/en/latest/_autosummary/jax.vmap.html#jax.vmap), чтобы легко заставить нашу функцию `policy_gradient_loss` работать с пакетом опыта."
      ]
    },
    {
      "cell_type": "code",
      "execution_count": 41,
      "metadata": {
        "id": "3yq4naLURjM4",
        "colab": {
          "base_uri": "https://localhost:8080/"
        },
        "outputId": "9cfd9050-f37b-4c32-f0f4-25374645cf1c"
      },
      "outputs": [
        {
          "output_type": "stream",
          "name": "stdout",
          "text": [
            "Policy gradient loss on batch: 1.6967314\n"
          ]
        }
      ],
      "source": [
        "def batched_policy_gradient_loss(params, obs_batch, action_batch, reward_to_go_batch):\n",
        "    # Get logits by passing observation through network\n",
        "    logits_batch = POLICY_NETWORK.apply(params, obs_batch)\n",
        "\n",
        "    policy_gradient_loss_batch = jax.vmap(policy_gradient_loss)(\n",
        "        action_batch,\n",
        "        logits_batch,\n",
        "        reward_to_go_batch) # add batch\n",
        "\n",
        "    # Compute mean loss over batch\n",
        "    mean_policy_gradient_loss = jnp.mean(policy_gradient_loss_batch)\n",
        "\n",
        "    return mean_policy_gradient_loss\n",
        "\n",
        "# TEST\n",
        "obs_batch = np.ones((3, *obs_shape), \"float32\")\n",
        "actions_batch = np.array([1,0,0])\n",
        "rew2go_batch = np.array([2.3, 4.3, 2.1])\n",
        "\n",
        "loss = batched_policy_gradient_loss(REINFORCE_params, obs_batch, actions_batch, rew2go_batch)\n",
        "\n",
        "print(\"Policy gradient loss on batch:\", loss)"
      ]
    },
    {
      "cell_type": "markdown",
      "metadata": {
        "id": "VDhTH3culwqo"
      },
      "source": [
        "### Оптимизатор сети\n",
        "\n",
        "Чтобы применить обновления градиента политики к нашей нейронной сети, мы будем использовать библиотеку JAX под названием [Optax](https://github.com/deepmind/optax). Optax имеет реализацию [оптимизатора Adam](https://www.geeksforgeeks.org/intuition-of-adam-optimizer/), которую мы можем использовать."
      ]
    },
    {
      "cell_type": "code",
      "execution_count": 42,
      "metadata": {
        "id": "pxXINlMHP5Ic"
      },
      "outputs": [],
      "source": [
        "REINFORCE_OPTIMIZER = optax.adam(1e-3)\n",
        "\n",
        "# Initialise the optimiser\n",
        "REINFORCE_optim_state = REINFORCE_OPTIMIZER.init(REINFORCE_params)"
      ]
    },
    {
      "cell_type": "markdown",
      "metadata": {
        "id": "ViENrHOALbCw"
      },
      "source": [
        "Теперь у нас есть все необходимое для создания функции `REINFORCE_learn`. Мы сохраним состояние оптимизатора в `learn_state`. Мы вычислим градиент потерь градиента политики с помощью  `jax.grad` ([docs](https://jax.readthedocs.io/en/latest/_autosummary/jax.grad.html))."
      ]
    },
    {
      "cell_type": "code",
      "execution_count": 43,
      "metadata": {
        "id": "CQr2Uz5ORjM5"
      },
      "outputs": [],
      "source": [
        "# A NamedTuple to store the state of the optimiser\n",
        "REINFORCELearnState = collections.namedtuple(\"LearnerState\", [\"optim_state\"])\n",
        "\n",
        "\n",
        "def REINFORCE_learn(key, params, learner_state, memory):\n",
        "\n",
        "  # Get the policy gradient by using `jax.grad()` on `batched_policy_gradient_loss`\n",
        "  grad_loss = jax.grad(batched_policy_gradient_loss)(params, memory.obs, memory.action, memory.reward_to_go)\n",
        "\n",
        "  # Get param updates using gradient and optimizer\n",
        "  updates, new_optim_state = REINFORCE_OPTIMIZER.update(grad_loss, learner_state.optim_state)\n",
        "\n",
        "  # Apply updates to params\n",
        "  params = optax.apply_updates(params, updates)\n",
        "\n",
        "  return params, REINFORCELearnState(new_optim_state) # update learner state"
      ]
    },
    {
      "cell_type": "markdown",
      "metadata": {
        "id": "5an3U2NhRKgG"
      },
      "source": [
        "### Цикл обучения REINFORCE\n",
        "Теперь мы можем обучить нашего агента REINFORCE, собрав все воедино с помощью цикла обучения."
      ]
    },
    {
      "cell_type": "code",
      "execution_count": 44,
      "metadata": {
        "id": "vioIcVGsRjM5",
        "colab": {
          "base_uri": "https://localhost:8080/",
          "height": 680
        },
        "outputId": "7fee53b3-1c8b-4d27-fe64-6102682d0a72"
      },
      "outputs": [
        {
          "output_type": "stream",
          "name": "stdout",
          "text": [
            "Starting training. This may take up to 10 minutes to complete.\n",
            "Episode: 0\tEpisode Return: 12.0\tAverage Episode Return: 12.0\tEvaluator Episode Return: 17.0\n",
            "Episode: 100\tEpisode Return: 25.0\tAverage Episode Return: 71.6\tEvaluator Episode Return: 66.125\n",
            "Episode: 200\tEpisode Return: 200.0\tAverage Episode Return: 187.8\tEvaluator Episode Return: 197.625\n",
            "Episode: 300\tEpisode Return: 200.0\tAverage Episode Return: 182.65\tEvaluator Episode Return: 199.5\n",
            "Episode: 400\tEpisode Return: 200.0\tAverage Episode Return: 188.0\tEvaluator Episode Return: 200.0\n",
            "Episode: 500\tEpisode Return: 200.0\tAverage Episode Return: 194.35\tEvaluator Episode Return: 196.875\n",
            "Episode: 600\tEpisode Return: 200.0\tAverage Episode Return: 195.25\tEvaluator Episode Return: 191.875\n",
            "Episode: 700\tEpisode Return: 200.0\tAverage Episode Return: 174.35\tEvaluator Episode Return: 200.0\n",
            "Episode: 800\tEpisode Return: 200.0\tAverage Episode Return: 179.75\tEvaluator Episode Return: 200.0\n",
            "Episode: 900\tEpisode Return: 200.0\tAverage Episode Return: 191.2\tEvaluator Episode Return: 191.75\n",
            "Episode: 1000\tEpisode Return: 200.0\tAverage Episode Return: 197.65\tEvaluator Episode Return: 178.125\n"
          ]
        },
        {
          "output_type": "display_data",
          "data": {
            "text/plain": [
              "<Figure size 640x480 with 1 Axes>"
            ],
            "image/png": "[encoded data removed]"
          },
          "metadata": {}
        }
      ],
      "source": [
        "# JIT the choose_action and learn functions for more speed\n",
        "REINFORCE_learn_jit = jax.jit(REINFORCE_learn)\n",
        "REINFORCE_choose_action_jit = jax.jit(REINFORCE_choose_action)\n",
        "\n",
        "# Initial learn state\n",
        "REINFORCE_learn_state = REINFORCELearnState(REINFORCE_optim_state)\n",
        "\n",
        "# Run training loop\n",
        "print(\"Starting training. This may take up to 10 minutes to complete.\")\n",
        "episode_returns, evaluator_returns = run_training_loop(\n",
        "                                        env_name,\n",
        "                                        REINFORCE_params,\n",
        "                                        REINFORCE_choose_action_jit,\n",
        "                                        None, # action state not used\n",
        "                                        REINFORCE_learn_jit,\n",
        "                                        REINFORCE_learn_state,\n",
        "                                        REINFORCE_memory,\n",
        "                                        num_episodes=1001,\n",
        "                                        learn_steps_per_episode=2,\n",
        "                                        video_subdir=\"reinforce\"\n",
        "                                      )\n",
        "\n",
        "# Plot the episode returns\n",
        "plt.plot(episode_returns)\n",
        "plt.xlabel(\"Episode\")\n",
        "plt.ylabel(\"Episode Return\")\n",
        "plt.title(\"REINFORCE\")\n",
        "plt.show()\n"
      ]
    },
    {
      "cell_type": "code",
      "execution_count": 45,
      "metadata": {
        "id": "caKL3ngNr_Yh",
        "colab": {
          "base_uri": "https://localhost:8080/",
          "height": 288
        },
        "outputId": "896288da-d2bd-4a8c-d877-a6fb1109a72d"
      },
      "outputs": [
        {
          "output_type": "execute_result",
          "data": {
            "text/plain": [
              "<IPython.core.display.HTML object>"
            ],
            "text/html": [
              "\n",
              "<video width=400 controls>\n",
              "      <source src=\"data:video/mp4;base64,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\" type=\"video/mp4\">\n",
              "</video>\n"
            ]
          },
          "metadata": {},
          "execution_count": 45
        }
      ],
      "source": [
        "#@title Визуализация {display-mode: \"form\"}\n",
        "#@markdown Выберите номер эпизода, менее или равного 1000, и **run this cell**.\n",
        "\n",
        "episode_number = 800 #@param {type:\"number\"}\n",
        "\n",
        "assert (episode_number % 100) == 0, \"Episode number must be a multiple of 100 since we only record every 100th episode.\"\n",
        "assert episode_number < 1001, \"Episode number must be less than or equal to 1000\"\n",
        "\n",
        "eval_episode_number = int(episode_number / 100 * 8)\n",
        "video_path = f\"./video/reinforce/eval/rl-video-episode-{eval_episode_number}.mp4\"\n",
        "\n",
        "mp4 = open(video_path,'rb').read()\n",
        "data_url = \"data:video/mp4;base64,\" + b64encode(mp4).decode()\n",
        "HTML(\"\"\"\n",
        "<video width=400 controls>\n",
        "      <source src=\"%s\" type=\"video/mp4\">\n",
        "</video>\n",
        "\"\"\" % data_url)"
      ]
    },
    {
      "cell_type": "markdown",
      "metadata": {
        "id": "D_HHzFTOc-Qr"
      },
      "source": [
        "## 4. Q-Learning\n",
        "Другим распространенным подходом к поиску оптимальной политики в среде с использованием RL является Q-обучение."
      ]
    },
    {
      "cell_type": "markdown",
      "metadata": {
        "id": "lF1nOZrUSzhE"
      },
      "source": [
        "### Функция значения состояния-действия\n",
        "В Q-обучении агент изучает функцию, которая аппроксимирует **значение** пар состояние-действие. Под *значением* мы подразумеваем отдачу, которую вы ожидаете получить, если начнете в определенном состоянии $s_t$, выполните определенное действие $a_t$, а затем будете действовать в соответствии с определенной политикой $\\pi$ навсегда. Функция значения состояния-действия политики $\\pi$ задается как\n",
        "\n",
        "$Q_\\pi(s,a)=\\mathrm{E}_{\\tau\\sim\\pi}\\left[R(\\tau) \\mid s_0=s,\\ a_t=a\\right]$.\n",
        "\n",
        "Мы говорим, что функция значения $Q_\\pi(s,a)$ является **оптимальной** функцией значения, если политика $\\pi$ является оптимальной политикой. Обозначим функцию оптимального значения следующим образом:\n",
        "\n",
        "$Q_\\ast(s,a)=\\max \\limits_\\pi \\ \\mathrm{E}_{\\tau\\sim\\pi}\\left[R(\\tau) \\mid s_0=s,\\ a_0=a\\right]$\n",
        "\n",
        "Существует важная связь между оптимальным действием $a_\\ast$ в состоянии $s$ и оптимальной функцией значения состояния-действия $Q_\\ast$. А именно, оптимальное действие $a_\\ast$ в состоянии $s$ равно действию, которое максимизирует оптимальную функцию значения состояния-действия. Эта связь естественным образом индуцирует оптимальную политику:\n",
        "\n",
        "$\\pi_\\ast(s)=\\arg \\max \\limits_a\\ Q_\\ast(s, a)$"
      ]
    },
    {
      "cell_type": "markdown",
      "metadata": {
        "id": "H2x2tqvZSihz"
      },
      "source": [
        "### Greedy action selection (Жадный выбор действия)\n",
        "\n",
        "**Упражнение 10:** Давайте реализуем функцию, которая, учитывая вектор Q-значений, возвращает действие с наибольшим Q-значением (т. е. жадное действие).\n",
        "\n",
        "**Useful methods:**\n",
        "*   `jax.numpy.argmax` ([docs](https://jax.readthedocs.io/en/latest/_autosummary/jax.numpy.argmax.html))"
      ]
    },
    {
      "cell_type": "code",
      "execution_count": 48,
      "metadata": {
        "id": "Nn9P1YdzTIDU"
      },
      "outputs": [],
      "source": [
        "# Implement a function takes q-values as input and returns the greedy_action\n",
        "def select_greedy_action(q_values):\n",
        "\n",
        "  # YOUR CODE\n",
        "  action = jax.numpy.argmax(q_values)\n",
        "  # END YOUR CODE\n",
        "\n",
        "  return action"
      ]
    },
    {
      "cell_type": "code",
      "execution_count": 49,
      "metadata": {
        "id": "ZBzLr_G7QKXR",
        "colab": {
          "base_uri": "https://localhost:8080/"
        },
        "outputId": "bc9ff3e0-4f11-4830-a67b-1e39febc82da"
      },
      "outputs": [
        {
          "output_type": "stream",
          "name": "stdout",
          "text": [
            "Looks good.\n"
          ]
        }
      ],
      "source": [
        "# @title Проверка упр 10 (run me) {display-mode: \"form\"}\n",
        "\n",
        "try:\n",
        "  q_values = jnp.array([1,1,3,4])\n",
        "  action = select_greedy_action(q_values)\n",
        "\n",
        "  if action != 3:\n",
        "    print(\"Incorrect answer, your greedy action selector looks wrong\")\n",
        "  else:\n",
        "    print(\"Looks good.\")\n",
        "except Exception as e:\n",
        "  print(\"An Error Occured: {}\".format(e))\n"
      ]
    },
    {
      "cell_type": "markdown",
      "metadata": {
        "id": "PFQUlqZ4ZyLp"
      },
      "source": [
        "### Q-Network\n",
        "В отличие от подхода с градиентом политики из предыдущего раздела, в Q-обучении и других методах RL на основе значений нам не нужна параметризация для политики, вместо этого мы параметризуем Q-функцию с помощью нейронной сети $Q_\\theta$. Мы получаем политику из Q-сети, всегда выбирая действие с *наибольшим* значением:\n",
        "\n",
        "$\\hat{\\pi}_\\theta(s)=\\arg \\max \\limits_a\\ Q_{\\theta}(s, a)$\n",
        "\n",
        "Как и ранее, мы будем использовать хайку для создания нейронной сети для аппроксимации этой Q-функции. Сеть будет принимать наблюдение в качестве входных данных, а затем выводить Q-значение для каждого из доступных действий. Таким образом, в случае CartPole выход сети будет иметь размер $2$."
      ]
    },
    {
      "cell_type": "code",
      "execution_count": 50,
      "metadata": {
        "id": "9wU1soJYZyLp"
      },
      "outputs": [],
      "source": [
        "def build_network(num_actions: int, layers=[20, 20]) -> hk.Transformed:\n",
        "  \"\"\"Factory for a simple MLP network for approximating Q-values.\"\"\"\n",
        "\n",
        "  def q_network(obs):\n",
        "    network = hk.Sequential(\n",
        "        [hk.Flatten(),\n",
        "         hk.nets.MLP(layers + [num_actions])])\n",
        "    return network(obs)\n",
        "\n",
        "  return hk.without_apply_rng(hk.transform(q_network))"
      ]
    },
    {
      "cell_type": "markdown",
      "metadata": {
        "id": "sUwG-4qTS1zx"
      },
      "source": [
        "Давайте инициализируем нашу Q-сеть и получим начальные параметры."
      ]
    },
    {
      "cell_type": "code",
      "execution_count": 51,
      "metadata": {
        "id": "1uvq5n2cS9lu",
        "colab": {
          "base_uri": "https://localhost:8080/"
        },
        "outputId": "3dd9f3d9-c23b-497f-fc1e-f1d8f3857b8e"
      },
      "outputs": [
        {
          "output_type": "stream",
          "name": "stdout",
          "text": [
            "Q-Learning params: dict_keys(['mlp/~/linear_0', 'mlp/~/linear_1', 'mlp/~/linear_2'])\n"
          ]
        }
      ],
      "source": [
        "# Initialise Q-network\n",
        "Q_NETWORK = build_network(num_actions=num_actions, layers=[20, 20]) # two actions\n",
        "\n",
        "dummy_obs = jnp.zeros((1,*obs_shape), jnp.float32) # a dummy observation like the one in CartPole\n",
        "\n",
        "random_key = jax.random.PRNGKey(42) # random key\n",
        "Q_NETWORK_PARAMS = Q_NETWORK.init(random_key, dummy_obs) # Get initial params\n",
        "\n",
        "print(\"Q-Learning params:\", Q_NETWORK_PARAMS.keys())"
      ]
    },
    {
      "cell_type": "markdown",
      "metadata": {
        "id": "iqCUeZfhEfyP"
      },
      "source": [
        "Прежде чем мы реализуем функцию потерь, необходимую для обучения нашей Q-сети, давайте сначала обсудим интуицию, стоящую за ней."
      ]
    },
    {
      "cell_type": "markdown",
      "metadata": {
        "id": "vbLig3uSZyLp"
      },
      "source": [
        "### The Bellman Equations (Уравнения Беллмана)\n",
        "Функция значения может быть записана рекурсивно как:\n",
        "\n",
        "$Q_{\\pi}(s, a) =\\underset{s^{\\prime} \\sim P}{\\mathrm{E}}\\left[r(s, a)+ \\underset{a^{\\prime} \\sim \\pi}{\\mathrm{E}}\\left[Q_{\\pi}\\left(s^{\\prime}, a^{\\prime}\\right)\\right]\\right]$,\n",
        "\n",
        "где $s' \\sim P$ — это сокращение для обозначения того, что следующее состояние $s'$ выбирается из функции перехода среды $P(s'\\mid s,a)$. Интуитивно это уравнение говорит, что ценность действия $a$, которое вы предприняли в состоянии $s$, равна вознаграждению $r$, которое вы ожидаете получить, плюс ценность, которую вы ожидаете получить в следующем состоянии $s`$, в котором вы окажетесь, при условии, что вы выберете свое следующее действие $a`$ с политикой $\\pi$. Уравнение Беллмана для оптимальной функции ценности выглядит так:\n",
        "\n",
        "$Q_{*}(s, a) =\\underset{s^{\\prime} \\sim P}{\\mathrm{E}}\\left[r(s, a)+\\ \\underset{a^{\\prime}}{\\max}\\ Q_{*}(s^{\\prime}, a^{\\prime})\\right]$\n",
        "\n",
        "Обратите внимание, что вместо выбора вашего следующего действия $a`$ с политикой $\\pi$ мы выбираем действие с наибольшим значением Q.\n",
        "\n",
        "Более подробное обсуждение уравнений Беллмана можно найти на сайте [OpenAI Spinning Up](https://spinningup.openai.com/en/latest/spinningup/rl_intro.html)."
      ]
    },
    {
      "cell_type": "markdown",
      "metadata": {
        "id": "DsOJi5G8ZyLp"
      },
      "source": [
        "### The Bellman Backup (Резервное копирование Беллмана)\n",
        "\n",
        "Чтобы научиться аппроксимировать оптимальную функцию Q-значения, мы можем использовать правую часть уравнения Беллмана в качестве правила обновления. Другими словами, предположим, что у нас есть Q-сеть $Q_\\theta$, аппроксимированная с использованием параметров $\\theta$, тогда мы можем итеративно обновлять параметры таким образом, что\n",
        "\n",
        "$Q_\\theta(s,a)\\leftarrow r(s, a) + \\underset{a'}{\\max}\\ Q_\\theta(s', a')$.\n",
        "\n",
        "Интуитивно это означает, что аппроксимация Q-значения действия $a$ в состоянии $s$ должна быть обновлена ​​таким образом, чтобы она была ближе к равной вознаграждению, полученному от среды $r(s, a)$, плюс значение наилучшего возможного действия в следующем состоянии $s'$. Мы можем выполнить эту оптимизацию, минимизируя разницу между левой и правой частью относительно параметров $\\theta$, используя градиентный спуск. Мы можем измерить разницу между двумя значениями, используя [квадратичную ошибку](https://en.wikipedia.org/wiki/Mean_squared_error#Loss_function).\n",
        "\n",
        "**Упражнение 11:** Реализуйте функцию квадратичной ошибки.\n",
        "\n",
        "**Полезные функции**\n",
        "* `jax.numpy.square` ([docs](https://jax.readthedocs.io/en/latest/_autosummary/jax.numpy.square.html))"
      ]
    },
    {
      "cell_type": "code",
      "execution_count": 52,
      "metadata": {
        "id": "PTto__ohZyLp"
      },
      "outputs": [],
      "source": [
        "def compute_squared_error(pred, target):\n",
        "  # YOUR CODE\n",
        "  squared_error = jax.numpy.square(pred - target)\n",
        "  # END YOUR CODE\n",
        "\n",
        "  return squared_error"
      ]
    },
    {
      "cell_type": "code",
      "execution_count": 53,
      "metadata": {
        "id": "wGhX8XTFVPVU",
        "colab": {
          "base_uri": "https://localhost:8080/"
        },
        "outputId": "86c2e1fb-e4e1-473e-99e1-f5b9ac46574e"
      },
      "outputs": [
        {
          "output_type": "stream",
          "name": "stdout",
          "text": [
            "Looks good.\n"
          ]
        }
      ],
      "source": [
        "#@title Проверка упр 11 {display-mode: \"form\"}\n",
        "\n",
        "try:\n",
        "  result = compute_squared_error(1, 4)\n",
        "\n",
        "  if result != 9:\n",
        "    print(\"Your implementation looks wrong.\")\n",
        "  else:\n",
        "    print(\"Looks good.\")\n",
        "except Exception as e:\n",
        "  print(\"An Error Occured: {}\".format(e))"
      ]
    },
    {
      "cell_type": "markdown",
      "metadata": {
        "id": "ycpZVkgdZyLp"
      },
      "source": [
        "**Упражнение 12:** Реализуйте функцию, которая вычисляет **цель Беллмана** (правая часть уравнения Беллмана). Если эпизод находится на последнем временном шаге (т. е. done==1.0), то цель Беллмана должна быть равна награде, без дополнительного значения в конце.\n",
        "\n",
        "**Полезные функции**\n",
        "* `jax.numpy.max` ([docs](https://jax.readthedocs.io/en/latest/_autosummary/jax.numpy.max.html))"
      ]
    },
    {
      "cell_type": "code",
      "execution_count": 54,
      "metadata": {
        "id": "961_OllWZyLp"
      },
      "outputs": [],
      "source": [
        "# Bellman target\n",
        "def compute_bellman_target(reward, done, next_q_values):\n",
        "  \"\"\"A function to compute the bellman target.\n",
        "\n",
        "  Args:\n",
        "      reward: a scalar reward.\n",
        "      done: a scalar of value either 1.0 or 0.0, indicating if the transition is a terminal one.\n",
        "      next_q_values: a vector of q_values for the next state. One for each action.\n",
        "  Returns:\n",
        "      A scalar equal to the bellman target.\n",
        "\n",
        "  \"\"\"\n",
        "  # YOUR CODE\n",
        "  bellman_target = reward + (1.0 - done) * jax.numpy.max(next_q_values)\n",
        "  # END YOUR CODE\n",
        "\n",
        "  return bellman_target"
      ]
    },
    {
      "cell_type": "code",
      "execution_count": 55,
      "metadata": {
        "id": "E5RAhegOWAkC",
        "colab": {
          "base_uri": "https://localhost:8080/"
        },
        "outputId": "7dfc4c11-015c-4d80-9939-d07dc0917d74"
      },
      "outputs": [
        {
          "output_type": "stream",
          "name": "stdout",
          "text": [
            "Looks good.\n"
          ]
        }
      ],
      "source": [
        "#@title Проверка упр 12 {display-mode: \"form\"}\n",
        "\n",
        "try:\n",
        "  # not done\n",
        "  result1 = compute_bellman_target(1, 0.0, np.array([3,2], \"float32\"))\n",
        "\n",
        "  # done\n",
        "  result2 = compute_bellman_target(1, 1.0, np.array([3,2], \"float32\"))\n",
        "\n",
        "  if result1 != 4 or result2 != 1:\n",
        "    print(\"Your implementation looks wrong.\")\n",
        "  else:\n",
        "    print(\"Looks good.\")\n",
        "except Exception as e:\n",
        "  print(\"An Error Occured: {}\".format(e))"
      ]
    },
    {
      "cell_type": "markdown",
      "metadata": {
        "id": "8sIjrHSJZyLq"
      },
      "source": [
        "Теперь мы можем объединить эти две функции, чтобы вычислить потерю для Q-обучения. Потери Q-обучения равны квадрату разницы между прогнозируемым значением Q действия и его соответствующей целью Беллмана.\n",
        "\n",
        "**Упражнение 13:** Реализуйте функцию потери Q-обучения."
      ]
    },
    {
      "cell_type": "code",
      "execution_count": 56,
      "metadata": {
        "id": "LJY_kpFcZyLq"
      },
      "outputs": [],
      "source": [
        "def q_learning_loss(q_values, action, reward, done, next_q_values):\n",
        "    \"\"\"Implementation of the Q-learning loss.T\n",
        "\n",
        "    Args:\n",
        "        q_values: a vector of Q-values, one for each action.\n",
        "        action: an integer, giving the action that was chosen. q_values[action] is the value of the chose action.\n",
        "        done: is a scalar that indicates if this is a terminal transition.\n",
        "        next_q_values: a vector of Q-values in the next state.\n",
        "    Returns:\n",
        "        The squared difference between the q_value of the chosen action and the bellman target.\n",
        "    \"\"\"\n",
        "    # YOUR CODE\n",
        "    chosen_action_q_value = q_values[action] # q_value of action, use array indexing\n",
        "    bellman_target = reward + (1.0 - done) * jax.numpy.max(next_q_values)\n",
        "    squared_error = jax.numpy.square(chosen_action_q_value - bellman_target)\n",
        "    # END YOUR CODE\n",
        "\n",
        "    return squared_error"
      ]
    },
    {
      "cell_type": "code",
      "execution_count": 57,
      "metadata": {
        "id": "1aZRn1qaWx2M",
        "colab": {
          "base_uri": "https://localhost:8080/"
        },
        "outputId": "7f1e408d-bff7-417a-b4eb-3bebd6b16eec"
      },
      "outputs": [
        {
          "output_type": "stream",
          "name": "stdout",
          "text": [
            "Looks good.\n"
          ]
        }
      ],
      "source": [
        "#@title Проверка упр 13 {display-mode: \"form\"}\n",
        "\n",
        "try:\n",
        "  result = q_learning_loss(np.array([3,2], \"float32\"), 1, 2, 0.0, np.array([3,2], \"float32\"))\n",
        "\n",
        "  if result != 9.0:\n",
        "    print(\"Your implementation looks wrong.\")\n",
        "  else:\n",
        "    print(\"Looks good.\")\n",
        "except Exception as e:\n",
        "  print(\"An Error Occured: {}\".format(e))"
      ]
    },
    {
      "cell_type": "markdown",
      "metadata": {
        "id": "b4YnSUfJZyLq"
      },
      "source": [
        "### Target Q-network (Целевая Q-сеть)\n",
        "Обратите внимание: когда мы вычисляем цель Беллмана, мы используем нашу Q-сеть $Q_\\theta$ для вычисления значения для следующего состояния $s_t$. По сути, мы используем наше последнее приближение Q-функции для вычисления цели нашего следующего приближения. Использование приближения для вычисления цели для вашего следующего приближения называется самозагрузкой. К сожалению, если мы наивно делаем такую ​​самозагрузку, это может сделать обучение нейронной сети очень нестабильным. Чтобы смягчить это, мы можем вместо этого использовать другой набор параметров $\\hat{\\theta}$ для вычисления значений в состоянии $s_{t+1}$. Мы будем сохранять параметры $\\hat{\\theta}$ фиксированными и только периодически обновлять их, чтобы они были равны последним онлайн-параметрам $\\theta$ каждые пару шагов обучения *(скажем, 100)*. Это позволяет сохранять фиксированные цели Беллмана для пары шагов обучения, чтобы помочь снизить нестабильность из-за самозагрузки.\n",
        "\n",
        "Нам нужно будет отслеживать последние (онлайн) параметры, а также параметры целевых сетей. Давайте создадим `NamedTuple` для хранения этих двух значений. Нам также нужно будет отслеживать количество шагов обучения, которые мы сделали, чтобы знать, когда обновлять целевую сеть. Давайте сохраним `count` шагов обучения в `learn_state`."
      ]
    },
    {
      "cell_type": "code",
      "execution_count": 58,
      "metadata": {
        "id": "DvZqUKmq6L7k"
      },
      "outputs": [],
      "source": [
        "# Store online and target parameters\n",
        "QLearnParams = collections.namedtuple(\"Params\", [\"online\", \"target\"])\n",
        "\n",
        "# Q-learn-state\n",
        "QLearnState = collections.namedtuple(\"LearnerState\", [\"count\", \"optim_state\"])"
      ]
    },
    {
      "cell_type": "markdown",
      "metadata": {
        "id": "CJWH2_kNZsau"
      },
      "source": [
        "Мы снова будем использовать Optax для оптимизации нашей нейронной сети в JAX. Мы сохраняем состояние оптимизатора в `learn_state` выше. Давайте теперь создадим экземпляр оптимизатора и добавим начальные параметры Q-сети в объект `QLearnParams`."
      ]
    },
    {
      "cell_type": "code",
      "execution_count": 59,
      "metadata": {
        "id": "HwqKTN6BaAXE"
      },
      "outputs": [],
      "source": [
        "# Initialise Q-network optimizer\n",
        "Q_LEARN_OPTIMIZER = optax.adam(3e-4) # learning rate\n",
        "\n",
        "Q_LEARN_OPTIM_STATE = Q_LEARN_OPTIMIZER.init(Q_NETWORK_PARAMS) # initial optim state\n",
        "\n",
        "# Create Learn State\n",
        "Q_LEARNING_LEARN_STATE = QLearnState(0, Q_LEARN_OPTIM_STATE) # count set to zero initially\n",
        "\n",
        "# Add initial Q-network weights to QLearnParams object\n",
        "Q_LEARNING_PARAMS = QLearnParams(online=Q_NETWORK_PARAMS, target=Q_NETWORK_PARAMS) # target equal to online"
      ]
    },
    {
      "cell_type": "markdown",
      "metadata": {
        "id": "xj89M8LgZlFe"
      },
      "source": [
        "Теперь мы можем реализовать простую функцию, которая обновляет параметры целевых сетей, чтобы они соответствовали последним онлайн-параметрам каждые 100 шагов обучения."
      ]
    },
    {
      "cell_type": "code",
      "execution_count": 60,
      "metadata": {
        "id": "SKrg_3rO6cCL"
      },
      "outputs": [],
      "source": [
        "def update_target_params(learn_state, online_weights, target_weights):\n",
        "  \"\"\"A function to update target params every 100 training steps\"\"\"\n",
        "\n",
        "  target = jax.lax.cond(\n",
        "      jax.numpy.mod(learn_state.count, 100) == 0,\n",
        "      lambda x, y: x,\n",
        "      lambda x, y: y,\n",
        "      online_weights,\n",
        "      target_weights\n",
        "  )\n",
        "\n",
        "  params = QLearnParams(online_weights, target)\n",
        "\n",
        "  return params"
      ]
    },
    {
      "cell_type": "markdown",
      "metadata": {
        "id": "KoiaYSo9ZyLq"
      },
      "source": [
        "### Q-learning loss (Функция потери Q-обучения)\n",
        "Теперь у нас есть все необходимое для реализации функции `q_learn`, которая принимает некоторую партию переходов и выполняет шаг Q-обучения для обновления параметров сети. Но сначала мы используем `jax.vmap` для изменения функции `q_learning_loss` так, чтобы она принимала партии переходов. Кроме того, мы вычислим Q-значения, передавая наблюдения через `Q_NETWORK`, и целевые Q-значения, используя целевые параметры `Q_NETWORK`."
      ]
    },
    {
      "cell_type": "code",
      "execution_count": 61,
      "metadata": {
        "id": "hnrsGppWZyLq"
      },
      "outputs": [],
      "source": [
        "def batched_q_learning_loss(online_params, target_params, obs, actions, rewards, next_obs, dones):\n",
        "    q_values = Q_NETWORK.apply(online_params, obs) # use the online parameters\n",
        "    next_q_values = Q_NETWORK.apply(target_params, next_obs) # use the target parameters\n",
        "    squared_error = jax.vmap(q_learning_loss)(q_values, actions, rewards, dones, next_q_values) # vmap q_learning_loss\n",
        "    mean_squared_error = jnp.mean(squared_error) # mean squared error over batch\n",
        "    return mean_squared_error"
      ]
    },
    {
      "cell_type": "markdown",
      "metadata": {
        "id": "CU8vo9ZebnEa"
      },
      "source": [
        "Теперь мы можем создать функцию `q_learn`, которая вычисляет градиент `batched_q_learning_loss`, а затем использует оптимизатор Optax для обновления весов сети, а затем, наконец (возможно), обновляет целевые параметры."
      ]
    },
    {
      "cell_type": "code",
      "execution_count": 62,
      "metadata": {
        "id": "6BYoX2W_ZyLr"
      },
      "outputs": [],
      "source": [
        "def q_learn(rng, params, learner_state, memory):\n",
        "  # Compute gradients\n",
        "  grad_loss = jax.grad(batched_q_learning_loss)(params.online, params.target, memory.obs,\n",
        "                                          memory.action, memory.reward,\n",
        "                                          memory.next_obs, memory.done,\n",
        "                                          ) # jax.grad\n",
        "\n",
        "  # Get updates\n",
        "  updates, opt_state = Q_LEARN_OPTIMIZER.update(grad_loss, learner_state.optim_state)\n",
        "\n",
        "  # Apply them\n",
        "  new_weights = optax.apply_updates(params.online, updates)\n",
        "\n",
        "  # Maybe update target network\n",
        "  params = update_target_params(learner_state, new_weights, params.target)\n",
        "\n",
        "  # Increment learner step counter\n",
        "  learner_state = QLearnState(learner_state.count + 1, opt_state)\n",
        "\n",
        "  return params, learner_state"
      ]
    },
    {
      "cell_type": "markdown",
      "metadata": {
        "id": "VpZsKHssZyLq"
      },
      "source": [
        "### Replay Buffer (Буфер воспроизведения)\n",
        "Для Q-обучения нам понадобится память агента, которая хранит целые переходы: `obs`, `action`, `reward`, `next_obs`, `done`. Когда мы извлекаем переходы из памяти, они должны выбираться случайным образом из всех переходов, собранных до сих пор. В RL мы часто называем такой модуль **буфером воспроизведения**.\n",
        "\n",
        "Одним из преимуществ использования такого буфера воспроизведения является то, что опыт можно повторно использовать несколько раз для обучения, в отличие от алгоритма градиента политики REINFORCE, где мы отбрасывали воспоминания после их использования для обучения."
      ]
    },
    {
      "cell_type": "code",
      "execution_count": 63,
      "metadata": {
        "id": "8tv5dUH6ZyLr"
      },
      "outputs": [],
      "source": [
        "class TransitionMemory(object):\n",
        "  \"\"\"A simple Python replay buffer.\"\"\"\n",
        "\n",
        "  def __init__(self, max_size=10_000, batch_size=256):\n",
        "    self.batch_size = batch_size\n",
        "    self.buffer = collections.deque(maxlen=max_size)\n",
        "\n",
        "  def push(self, transition):\n",
        "\n",
        "    # add transition to the replay buffer\n",
        "    self.buffer.append(\n",
        "        (transition.obs, transition.action, transition.reward,\n",
        "          transition.next_obs, transition.done)\n",
        "    )\n",
        "\n",
        "\n",
        "  def is_ready(self):\n",
        "    return self.batch_size <= len(self.buffer)\n",
        "\n",
        "  def sample(self):\n",
        "    # Randomly sample a batch of transitions from the buffer\n",
        "    random_replay_sample = random.sample(self.buffer, self.batch_size)\n",
        "\n",
        "    # Batch the transitions together\n",
        "    obs_batch, action_batch, reward_batch, next_obs_batch, done_batch = zip(*random_replay_sample)\n",
        "\n",
        "    return Transition(\n",
        "        np.stack(obs_batch).astype(\"float32\"),\n",
        "        np.asarray(action_batch).astype(\"int32\"),\n",
        "        np.asarray(reward_batch).astype(\"float32\"),\n",
        "        np.stack(next_obs_batch).astype(\"float32\"),\n",
        "        np.asarray(done_batch).astype(\"float32\")\n",
        "    )\n",
        "\n",
        "# Instantiate the memory\n",
        "Q_LEARNING_MEMORY = TransitionMemory(max_size=50_000, batch_size=256)"
      ]
    },
    {
      "cell_type": "markdown",
      "metadata": {
        "id": "XbHk03VVUHAV"
      },
      "source": [
        "### Случайное исследование\n",
        "У нас почти есть все, что нужно для функционирующего агента Q-обучения. Но одна проблема заключается в том, что если мы всегда выбираем действие с наивысшим значением Q, то политика агента будет полностью [детерминированной](https://www.quora.com/What-is-the-intuitive-difference-between-a-stochastic-model-and-a-deterministic-model). Это означает, что агент всегда будет выбирать одну и ту же стратегию. Это может представлять проблему, поскольку в начале обучения Q-сеть будет очень неточной (т. е. плохой аппроксимацией истинной Q-функции). Таким образом, агент будет последовательно выбирать неоптимальные действия. Более того, агент никогда не отклонится от своей неоптимальной стратегии и никогда не обнаружит новые, потенциально более полезные действия. В результате Q-сеть остается неточной. В идеале агент должен опробовать много разных стратегий, чтобы он мог наблюдать результаты (вознаграждения) своих действий в разных состояниях и таким образом улучшить приближение Q-функции.\n",
        "\n",
        "Один простой способ гарантировать, что агент опробует много разных действий, — позволить ему периодически выбирать некоторые случайные действия вместо жадного (лучшего) действия все время.\n",
        "\n",
        "**Упражнение 14:** Реализуйте функцию, которая, учитывая количество возможных (дискретных) действий, возвращает случайное действие.\n",
        "\n",
        "**Полезные методы:**\n",
        "\n",
        "*  `jax.random.randint` ([docs](https://jax.readthedocs.io/en/latest/_autosummary/jax.random.randint.html))"
      ]
    },
    {
      "cell_type": "code",
      "execution_count": 64,
      "metadata": {
        "id": "uUKkpMLXUtko"
      },
      "outputs": [],
      "source": [
        "def select_random_action(key, num_actions):\n",
        "\n",
        "    # YOUR CODE\n",
        "    action = jax.random.randint(key, shape=(), minval=0, maxval=num_actions)\n",
        "    # END YOUR CODE\n",
        "\n",
        "    return action"
      ]
    },
    {
      "cell_type": "code",
      "execution_count": 65,
      "metadata": {
        "id": "NO6va6S2Y40E",
        "colab": {
          "base_uri": "https://localhost:8080/"
        },
        "outputId": "38b1275d-5918-49d2-8aa7-b00854ec98b8"
      },
      "outputs": [
        {
          "output_type": "stream",
          "name": "stdout",
          "text": [
            "Looks good.\n"
          ]
        }
      ],
      "source": [
        "#@title Проверка упр 14 {display-mode: \"form\"}\n",
        "\n",
        "try:\n",
        "  random_key1 = random_key = jax.random.PRNGKey(6) # random key\n",
        "  random_key2 = random_key = jax.random.PRNGKey(1000) # random key\n",
        "  result1 = select_random_action(random_key1, 2)\n",
        "  result2 = select_random_action(random_key2, 2)\n",
        "\n",
        "  if result1 != 1 or result2 != 0:\n",
        "    print(\"Your implementation looks wrong.\")\n",
        "  else:\n",
        "    print(\"Looks good.\")\n",
        "except:\n",
        "  print(\"Your implementation looks wrong.\")"
      ]
    },
    {
      "cell_type": "markdown",
      "metadata": {
        "id": "8-kKDFT6XU6y"
      },
      "source": [
        "### $\\varepsilon$-greedy action selection (эпсилон жадный выбор действия)\n",
        "В начале обучения, когда точность Q-сети низкая, агенту стоит в основном совершать случайные действия, чтобы он мог узнать, насколько хороши/плохи действия. Однако по мере повышения точности Q-сети агент должен начать совершать меньше случайных действий и вместо этого начать выбирать жадные действия относительно Q-значений. Выбор лучших действий с учетом текущей Q-сети называется **эксплуатацией**. В RL мы часто называем отношение случайных и жадных действий **эпсилоном** $\\varepsilon$. Эпсилон обычно представляет собой десятичное значение в интервале $[0,1]$, где, например, $\\varepsilon=0.4$ означает, что агент выбирает случайное действие в 40% случаев, а жадное действие — в 60% случаев. В RL принято линейно уменьшать значение эпсилон с течением времени, так что агент становится все более жадным по мере повышения точности его Q-сети в процессе обучения.\n",
        "\n",
        "**Упражнение 15:** Реализуйте функцию, которая принимает количество временных шагов в качестве входных данных и возвращает текущее значение эпсилон."
      ]
    },
    {
      "cell_type": "code",
      "execution_count": 66,
      "metadata": {
        "id": "_qejnbCocurG"
      },
      "outputs": [],
      "source": [
        "EPSILON_DECAY_TIMESTEPS = 3000 # decay epsilon over 3000 timesteps\n",
        "EPSILON_MIN = 0.1 # 10% exploration"
      ]
    },
    {
      "cell_type": "code",
      "execution_count": 67,
      "metadata": {
        "id": "5ujSbssCZyLs"
      },
      "outputs": [],
      "source": [
        "def get_epsilon(num_timesteps):\n",
        "  # YOUR CODE\n",
        "  epsilon = 1.0 - (num_timesteps / EPSILON_DECAY_TIMESTEPS)\n",
        "\n",
        "  epsilon = jax.lax.select(\n",
        "      epsilon < EPSILON_MIN,\n",
        "      EPSILON_MIN,\n",
        "      epsilon\n",
        "  )\n",
        "  # END YOUR CODE\n",
        "\n",
        "  return epsilon"
      ]
    },
    {
      "cell_type": "code",
      "execution_count": 68,
      "metadata": {
        "id": "hvu4zA64aUou",
        "colab": {
          "base_uri": "https://localhost:8080/"
        },
        "outputId": "e72dc9fb-7044-4b42-ee10-3dc8c3f2d944"
      },
      "outputs": [
        {
          "output_type": "stream",
          "name": "stdout",
          "text": [
            "Your function looks correct.\n"
          ]
        }
      ],
      "source": [
        "#@title Проверка упр 15 {display-mode: \"form\"}\n",
        "def check_get_epsilon(get_epsilon):\n",
        "  try:\n",
        "    result1 = get_epsilon(10)\n",
        "    result2 = get_epsilon(5_010)\n",
        "\n",
        "    if result1 != 0.99666667 or result2 != 0.1:\n",
        "      print(\"Your function looks wrong.\")\n",
        "    else:\n",
        "      print(\"Your function looks correct.\")\n",
        "  except:\n",
        "    print(\"Your function looks wrong.\")\n",
        "\n",
        "check_get_epsilon(get_epsilon)\n"
      ]
    },
    {
      "cell_type": "markdown",
      "metadata": {
        "id": "t56oo58TVQ_s"
      },
      "source": [
        "**Упражнение 16:** Теперь давайте объединим эти функции для выполнения эпсилон-жадного выбора действия."
      ]
    },
    {
      "cell_type": "code",
      "execution_count": 69,
      "metadata": {
        "id": "NlQx8K4vKUXj"
      },
      "outputs": [],
      "source": [
        "def select_epsilon_greedy_action(key, q_values, num_timesteps):\n",
        "    num_actions = len(q_values) # number of available actions\n",
        "\n",
        "    # YOUR CODE HERE\n",
        "    epsilon = get_epsilon(num_timesteps)\n",
        "\n",
        "    should_explore = jax.random.uniform(key) < epsilon\n",
        "\n",
        "    action = jax.lax.select(\n",
        "      should_explore,\n",
        "      jax.random.randint(key, shape=(), minval=0, maxval=num_actions),\n",
        "      jax.numpy.argmax(q_values)\n",
        "  )\n",
        "    # END YOUR CODE\n",
        "\n",
        "    return action"
      ]
    },
    {
      "cell_type": "code",
      "execution_count": 70,
      "metadata": {
        "id": "mkVU2a5e7P6b",
        "colab": {
          "base_uri": "https://localhost:8080/"
        },
        "outputId": "2ed889c3-bb34-497f-d590-c929e24d4503"
      },
      "outputs": [
        {
          "output_type": "stream",
          "name": "stdout",
          "text": [
            "Looks correct!\n"
          ]
        }
      ],
      "source": [
        "#@title Проверка упражнения 16 {display-mode: \"form\"}\n",
        "\n",
        "try:\n",
        "  rng = hk.PRNGSequence(jax.random.PRNGKey(42))\n",
        "  dummy_q_values = jnp.array([0,1], jnp.float32)\n",
        "  num_timesteps = 5010 # very greedy\n",
        "  actions1 = []\n",
        "  for i in range(10):\n",
        "      actions1.append(int(select_epsilon_greedy_action(next(rng), dummy_q_values, num_timesteps)))\n",
        "\n",
        "  num_timesteps = 0 # completly random\n",
        "  actions2 = []\n",
        "  for i in range(10):\n",
        "      actions2.append(int(select_epsilon_greedy_action(next(rng), dummy_q_values, num_timesteps)))\n",
        "\n",
        "  if actions1 != [1, 1, 0, 1, 1, 0, 1, 1, 1, 1] or actions2 != [0, 0, 0, 1, 1, 1, 1, 0, 0, 0]:\n",
        "    print(\"Looks like something might be incorrect!\")\n",
        "  else:\n",
        "    print(\"Looks correct!\")\n",
        "except:\n",
        "  print(\"Looks like something might be incorrect!\")"
      ]
    },
    {
      "cell_type": "markdown",
      "metadata": {
        "id": "y5W23MnobN9x"
      },
      "source": [
        "### Действие выбора Q-learning\n",
        "\n",
        "Теперь у нас есть все необходимое для создания функции `q_learning_select_action`. Мы будем использовать `actor_state` для хранения счетчика, который отслеживает текущее количество временных шагов. Мы можем использовать счетчик для уменьшения нашего значения `epsilon`."
      ]
    },
    {
      "cell_type": "code",
      "execution_count": 71,
      "metadata": {
        "id": "81TysLc0RjM6"
      },
      "outputs": [],
      "source": [
        "# Actor state stores the current number of timesteps\n",
        "QActorState = collections.namedtuple(\"ActorState\", [\"count\"])\n",
        "\n",
        "def q_learning_select_action(key, params, actor_state, obs, evaluation=False):\n",
        "    obs = jnp.expand_dims(obs, axis=0) # add dummy batch dim\n",
        "    q_values = Q_NETWORK.apply(params.online, obs)[0] # remove batch dim\n",
        "\n",
        "    action = select_epsilon_greedy_action(key, q_values, actor_state.count)\n",
        "    greedy_action = select_greedy_action(q_values)\n",
        "\n",
        "    action = jax.lax.select(\n",
        "        evaluation,\n",
        "        greedy_action,\n",
        "        action\n",
        "    )\n",
        "\n",
        "    next_actor_state = QActorState(actor_state.count + 1) # increment timestep counter\n",
        "\n",
        "    return action, next_actor_state\n",
        "\n",
        "Q_LEARNING_ACTOR_STATE = QActorState(0) # counter set to zero"
      ]
    },
    {
      "cell_type": "markdown",
      "metadata": {
        "id": "z884-1oNRGEr"
      },
      "source": [
        "### Обучение\n",
        "Теперь мы можем собрать все вместе, используя цикл агент-среда. Но сначала давайте объединим функцию выбора действия и функцию обучения для дополнительной скорости."
      ]
    },
    {
      "cell_type": "code",
      "execution_count": 72,
      "metadata": {
        "id": "xbdHDbd1RjM8",
        "colab": {
          "base_uri": "https://localhost:8080/",
          "height": 680
        },
        "outputId": "7379a1a9-4463-47f9-cd11-128594281285"
      },
      "outputs": [
        {
          "output_type": "stream",
          "name": "stdout",
          "text": [
            "Starting training. This may take up to 8 minutes to complete.\n",
            "Episode: 0\tEpisode Return: 16.0\tAverage Episode Return: 16.0\tEvaluator Episode Return: 9.5\n",
            "Episode: 100\tEpisode Return: 13.0\tAverage Episode Return: 13.6\tEvaluator Episode Return: 9.125\n",
            "Episode: 200\tEpisode Return: 12.0\tAverage Episode Return: 9.9\tEvaluator Episode Return: 9.375\n",
            "Episode: 300\tEpisode Return: 10.0\tAverage Episode Return: 9.65\tEvaluator Episode Return: 9.375\n",
            "Episode: 400\tEpisode Return: 9.0\tAverage Episode Return: 9.95\tEvaluator Episode Return: 9.5\n",
            "Episode: 500\tEpisode Return: 37.0\tAverage Episode Return: 45.1\tEvaluator Episode Return: 61.25\n",
            "Episode: 600\tEpisode Return: 160.0\tAverage Episode Return: 94.2\tEvaluator Episode Return: 116.0\n",
            "Episode: 700\tEpisode Return: 93.0\tAverage Episode Return: 98.1\tEvaluator Episode Return: 121.25\n",
            "Episode: 800\tEpisode Return: 87.0\tAverage Episode Return: 88.3\tEvaluator Episode Return: 74.5\n",
            "Episode: 900\tEpisode Return: 69.0\tAverage Episode Return: 95.6\tEvaluator Episode Return: 103.875\n",
            "Episode: 1000\tEpisode Return: 200.0\tAverage Episode Return: 121.6\tEvaluator Episode Return: 200.0\n"
          ]
        },
        {
          "output_type": "display_data",
          "data": {
            "text/plain": [
              "<Figure size 640x480 with 1 Axes>"
            ],
            "image/png": "[encoded data removed]"
          },
          "metadata": {}
        }
      ],
      "source": [
        "# Jit functions\n",
        "q_learning_select_action_jit = jax.jit(q_learning_select_action)\n",
        "q_learn_jit = jax.jit(q_learn)\n",
        "\n",
        "# Run environment loop\n",
        "print(\"Starting training. This may take up to 8 minutes to complete.\")\n",
        "episode_returns, evaluator_returns = run_training_loop(\n",
        "                                        env_name,\n",
        "                                        Q_LEARNING_PARAMS,\n",
        "                                        q_learning_select_action_jit,\n",
        "                                        Q_LEARNING_ACTOR_STATE,\n",
        "                                        q_learn_jit,\n",
        "                                        Q_LEARNING_LEARN_STATE,\n",
        "                                        Q_LEARNING_MEMORY,\n",
        "                                        num_episodes=1001,\n",
        "                                        train_every_timestep=True, # do learning after every timestep\n",
        "                                        video_subdir=\"q_learning\"\n",
        "                                    )\n",
        "\n",
        "plt.plot(episode_returns)\n",
        "plt.xlabel(\"Episodes\")\n",
        "plt.ylabel(\"Episode Return\")\n",
        "plt.title(\"Deep Q-Learning\")\n",
        "plt.show()"
      ]
    },
    {
      "cell_type": "markdown",
      "metadata": {
        "id": "2k0-41wbpFDE"
      },
      "source": [
        "На этом этапе, как мы надеемся, приближенная Q-функция сошлась к приемлемой политике балансировки шеста в задаче CartPole."
      ]
    },
    {
      "cell_type": "code",
      "execution_count": 73,
      "metadata": {
        "id": "t4v0ZbB4FQUs",
        "colab": {
          "base_uri": "https://localhost:8080/",
          "height": 288
        },
        "outputId": "7351bf94-0991-4092-874e-f856976f29b2"
      },
      "outputs": [
        {
          "output_type": "execute_result",
          "data": {
            "text/plain": [
              "<IPython.core.display.HTML object>"
            ],
            "text/html": [
              "\n",
              "<video width=400 controls>\n",
              "      <source src=\"data:video/mp4;base64,AAAAIGZ0eXBpc29tAAACAGlzb21pc28yYXZjMW1wNDEAAAAIZnJlZQAAOHNtZGF0AAACrgYF//+q3EXpvebZSLeWLNgg2SPu73gyNjQgLSBjb3JlIDE2MyByMzA2MCA1ZGI2YWE2IC0gSC4yNjQvTVBFRy00IEFWQyBjb2RlYyAtIENvcHlsZWZ0IDIwMDMtMjAyMSAtIGh0dHA6Ly93d3cudmlkZW9sYW4ub3JnL3gyNjQuaHRtbCAtIG9wdGlvbnM6IGNhYmFjPTEgcmVmPTMgZGVibG9jaz0xOjA6MCBhbmFseXNlPTB4MzoweDExMyBtZT1oZXggc3VibWU9NyBwc3k9MSBwc3lfcmQ9MS4wMDowLjAwIG1peGVkX3JlZj0xIG1lX3JhbmdlPTE2IGNocm9tYV9tZT0xIHRyZWxsaXM9MSA4eDhkY3Q9MSBjcW09MCBkZWFkem9uZT0yMSwxMSBmYXN0X3Bza2lwPTEgY2hyb21hX3FwX29mZnNldD0tMiB0aHJlYWRzPTMgbG9va2FoZWFkX3RocmVhZHM9MSBzbGljZWRfdGhyZWFkcz0wIG5yPTAgZGVjaW1hdGU9MSBpbnRlcmxhY2VkPTAgYmx1cmF5X2NvbXBhdD0wIGNvbnN0cmFpbmVkX2ludHJhPTAgYmZyYW1lcz0zIGJfcHlyYW1pZD0yIGJfYWRhcHQ9MSBiX2JpYXM9MCBkaXJlY3Q9MSB3ZWlnaHRiPTEgb3Blbl9nb3A9MCB3ZWlnaHRwPTIga2V5aW50PTI1MCBrZXlpbnRfbWluPTI1IHNjZW5lY3V0PTQwIGludHJhX3JlZnJlc2g9MCByY19sb29rYWhlYWQ9NDAgcmM9Y3JmIG1idHJlZT0xIGNyZj0yMy4wIHFjb21wPTAuNjAgcXBtaW49MCBxcG1heD02OSBxcHN0ZXA9NCBpcF9yYXRpbz0xLjQwIGFxPTE6MS4wMACAAAACRWWIhAAv//72rvzLK0cLlS4dWXuzUfLoSXL9iDB9aAAAAwAAAwAAJuKiZ0WFMeJsgAAALmAIWElDyDzETFWKgTkpvLPuxwAAnIsk3lKjRFPPirgBEf/Z5A0iAf3ybNj/Z1105+6kPqyYPza++nw7ovX8z3Js2h+lEYXszef2gUahofbhSNtkMIrLVpFhr/Wt4Yl+QENMJ2GfGENu7ULVMq8g5sx3as7c6gYshNuaJ7qplxF7bxxwuqre9SADQoDhcceiUDwhBJeGo47nx1XQVbJHYe8aAH6Ki3CHZQ23reDwXHxqa5eVBvdSS5rY5g8snrHff1EmmYJrBqhdBNVb8amGBUFHTPxj25gui18HbUfM5JYIDbaZbcwt8hSTMmFK0NNYyTvESDJTtBf++/HrFP4YOAJGy2/hAW1z3KpAF0qOEblQnWW23KiGbHl8z/+eVXOCKT9gJ48s1F/20ZFfQqAdbP5AfkgCDH+Ec3RnSECK0CrInPM+xxfcsO/u1HDwxHseZGl05Iml0m9hABiv14mFvI5MAhmdaeTaQhhEFyT0uAAABmH7276KMVo8tzOtDvHvUltvuTey9sEOAqdOhd8/+95OoBK1R1W8TPmuwW7d6/W9Vmhizc2HFYxH9NBXXmmDlVfA5Yd1NtQuXPva2LpnYFinnq5qWFKnsFqFdm5IFveQxZWCgkchkNvlk64q/gAGpo/9Jv/BMy3dMPTzbiz/hsz/DPcU8E44fRcEAABNxzj7QEtIAAADAAADAAADAAADAAQ9AAABikGaI2xDP/6eEAAAT/2f1s8Pg8OJkAoMo3/NmZ/JI4/D5MSJj3Jz+Cgw+/aiWzokDZhrwp6W5Nkm1a63apSLdtZ25UnBpaHh5zNDTHEA/wlVbodMbgJo/TjBSl3FhYsmXGRJqWd4cuPppucXrUNJAuizU+5IHoWwiW7O3CYSq8F2Vgwa6YmlxzA6ech1RpCN+MuM3fMxND4YIwzQmt2zAX3Km1OPOFZUCtdFoVCDDnHNYiClro1Fis5tkIWX7Ege6Dj0XOG++nteL8YCS7uz4NWsW0LWhzPQdG1Sa57IA0OoSIx8UCrj7V4PFytgjBMQixcGog1RbYUvGNX9WDvseVoL4pzVmCtNhij29WExWZpcebVhhpNRqIal9F2Z1pi5yH3piHmioOM/I76yrxHVrClmDMU8bJpEeLYm1oaYcMt33Q9eaTvl8SgbrC7Usu/L+/IMVYH+X23aN0xg4HZddUshX9v7zncB/sw/JMcR872U/Q40HOwQiqYSisJv61vsBt4v6CVdjmAADpgAAABQQZ5BeIR/AAAZwg0ra3wWaWxcxSh/RhZfA9H5jUAG6UOCSUVRUbDivpgoU4ADji94XpGXq9Y5NQV+LJBc92aNMcH14ZzLMT8e+wnMzy1wCTkAAAAjAZ5iakf/AAAn2d7yKxd/FlZAVLv3kAQlWLvCTpEOUvn013QAAABeQZpnSahBaJlMCGf//p4QAABFZUEoK0/vzug/9EyTwaRXna5OL0AdTj1/qRmvX/u3ev1FQdWw3UcmBoM99Gw3ffvo6GnDOLa9q/0EiUAEsLcGQLUxA1q79YpGiOKI0QAAADNBnoVFESwj/wAAGS3mH9uUcK7NbXddh8lsTq+LUjv/eR7VjbJMp/mSgl4mO+Yimp/lNpUAAAAyAZ6kdEf/AAAnwuIUOJFQu4JpPeVgo4dNEE4BoSF0YADvm3CmZ89cId7U5N8GUQVBf4EAAAAcAZ6makf/AAAn2d7yK0ImSOsDjX9Hvq/B8q/mBQAAAE9BmqtJqEFsmUwIZ//+nhAAAEO6t6wnFVklqUgrvNQQj6zb3QF1JUVjr1/vQi9Qcu22IsjDIn2VFjldRYp42uYAFpmRZ8xZEBEIjP2X2fUgAAAAMUGeyUUVLCP/AAAZLeWC4ocuB70KlfOzU6jsd3xaAXiHZGuJ8DACD4I8yihCRSDr2pUAAAAaAZ7odEf/AAAnwxxOxngKsQe86rmq+8B+gSsAAAAaAZ7qakf/AAAn2a1OZZwWnL+kc8v4OxofZOAAAABlQZrvSahBbJlMCGf//p4QAABFRQXgm3k7F53C900mDKCNzADjb8q5D/lPEHMqMpd9mxzOV5ae7VogrVkvlenUisWrK3O7Mup+BpSiQvAOp0Hss+OZG9yJIrtbGoy7ZE1X9JfJ4NcAAAAuQZ8NRRUsI/8AABkt5h/wBTpIChpzBAjXW8l5AAQmAgvUUvdw2DtnYhKHBLoGDwAAAB8Bnyx0R/8AACfC4hNnOkkuhCUe69Xgkkr5SHk0ETOTAAAAGgGfLmpH/wAAJ9nefo9TmY3I0cF5S7+6ogGBAAAAYEGbM0moQWyZTAhn//6eEAAARVEJekLcFIsfCqAA0UIFcwbM3xlZ7FEeoJixA8GeN2iS+yqHSrjmscXKLAh2QMTfj87hz5OaymJq+Z3oifCC7H1c0FCTXAd3eMjKvdJ0zgAAAENBn1FFFSwj/wAAGS3mFctVqOSoosqxE5W71mOpQEAQriMnH8xo4Nul0kaT0Hgh3bGujppi6xHiHqRALRKmAtDxeaxYAAAAHQGfcHRH/wAAJ8MiDQ2MCx+gtqpB5M/CYPFMAG9BAAAAHgGfcmpH/wAAJ9mqNWXcrNZEh6/Dbo4g5hTV7/sT2wAAAEVBm3dJqEFsmUwIZ//+nhAAAEVEWnQlQo+rZPD0WMJRT8VfDPsnqd9lPm8bX/xjuvACIuMHXI9y3ivPfaXvFwa+AoKtgYAAAAArQZ+VRRUsI/8AABkt5hLcNNQkLXi5GBSrOd6WrEQQe6RpztoO0b+IVVWPNwAAACIBn7R0R/8AACfDIg0PZ/KJiggqfZT0SGkaQKNIM7fk5ZuAAAAAHAGftmpH/wAAJ9ne8xsWdYF0p+zOX+/QGY3QOCEAAABPQZu7SahBbJlMCF///oywAABGAtD8Y5KCwLyfePvbtSk2zIAmiBL6xAM/+UyFKlVIDejTmgyKvi4mu9yC+QHtws/s92+xGHCP36aa8jjsgQAAAChBn9lFFSwj/wAAGS3mH/AFYMLdfM8zm+sJMCJ4r9UfwqivVVPumRKgAAAAKQGf+HRH/wAAJ8LiFDvHZIwXKQKg3150uIN5XgA+hSfvFpMEdQep+6XbAAAAIAGf+mpH/wAAJ9negmw14ufJN/5VYqUxa7QDz/YgKMCAAAAAZkGb/0moQWyZTAhf//6MsAAASAHxqO/X3bJOz+O0unuFPlZGfnIbSHLapY35qYLJML6pa8Abe9+ByO+apCm8+M3TrbIVmSZ4yUtVz6Ne2rE9YoOPU0Hxbb/xiGEKJvLTrPsvBxB+KwAAACxBnh1FFSwj/wAAGS3mtaJctGHIUgQACIe9IyXfnBpJGIMzOqKT7FqmSuEZBwAAABgBnjx0R/8AACfDKBexIpMQh/8J2sQFWLAAAAAzAZ4+akf/AAAn2eQyKz82SOsOcQiXfLLrFlytqyWXh/uk475Gn6yOT/nZfRcURnZDXGKgAAAAckGaI0moQWyZTAhf//6MsAAASAHxqO/YcWaDJWRAFcaXtS3pDxEDG/dFgPXuUOiL8lnY2lMQSlaIbYUmapVpLVBqUV5EItGITiWxQ6qj02lw8tEUh1X1SgfqHnwR6gEXfk+LtZ0tYYyLLozIP9Z5o01fsQAAAC5BnkFFFSwj/wAAGS3mtaJctIhpnagAOPhpkPbdcQsPfmmokLl/2IRFYWxYHpcCAAAAIAGeYHRH/wAAJ8Mo9MivlxRseNNwFJ140zM8mU6fwJFhAAAAGwGeYmpH/wAAJ9nkMis/NkjrA3fu004okLOcqAAAADJBmmdJqEFsmUwIV//+OEAAART2QFEyBeCTuJ/JSW8lUJDWDT7PLMygAAG27M+uqbN6FwAAACNBnoVFFSwj/wAAGS3mtaJctGHIUPrdsUov8mplvSnXAkg9wQAAAC0BnqR0R/8AACfDKPTIr5cUbHgt0hevgynKjT6GVGgBxJPkVdgKg+8YlS421IEAAAAeAZ6makf/AAAn2eQyKz82SOsDd+7TQaH7yFrJlo4JAAAAT0GaqUmoQWyZTBRMK//+OEAAART6IJ5dxc1/7TlAH5iMB5XdzvEj97qI8OaYX+VklJdsyYWIy1pJ97OA8CJ0jYSdbFMWNYCLKgXn1EGw6oAAAAAaAZ7Iakf/AAAn5CIN81FmY3I0cF5Sg9lWDpgAAAA9QZrLSeEKUmUwUsK//jhAAAEVoeTe0Zrh9tFR6ALhtgY3G8ntZ4BC84G4s/1naMbaylpQf1Hxgmrr3gkFwQAAADYBnupqR/8AACSxzA1eLPDK4pJ8wNaWJdfTLL77iR8UaSAh+XYcqkiSACU/eUVU9xjVkDjC2pAAAABSQZrsSeEOiZTAhX/+OEAAART6IJ5cTo2KXi8jAsppnQ//mCPUVTjAoBNKQ4eBjuGuK9KLlQtN8n+AjGfFIkG4ih+f38cnYcFVwpd0nOGWcTvLFwAAAHlBmw1J4Q8mUwIV//44QAABFThobFFwznRzp44OceumZOo36y57mjBVT89GhxXULRdAx28L0AR7zoiq2LU54q11yfdE3W/4B38XvDWCV0wYisb1SOomYwuCdHAiaFKmD5i933LTds/0GE4Dkm8ANPWavl0TqnK9AbPnAAAAX0GbLknhDyZTAhf//oywAABIJcFz4UtTyUFPrdUQ8mQsOFk2yQ1YhRbe9dzzjtziIPgXd4YZU3R286IJp53j/j54yFcFylCNVb81aSc5EdUKaVnODGz2EE9evQkrq6mBAAAAZUGbT0nhDyZTAhn//p4QAABHfzKpIpvABYdWAIUpdtS27O0L8k6+AUXpDI+ziZe41lfH5FprSUO1+YP+bpSWPOXRYbOnlhBV3R1AAU0Zc1uwLQVb/hgZEwDpvzcwMdIh2CvSleaBAAAAaUGbc0nhDyZTAhn//p4QAABHQ49wTOSFaaJBt/A6irXzxU7pXsSQhJsE3dQnlYK8/pgo+6br87EKodIqy5tj5gR8QBWRDRdonp/IijVU+JSpLufmgbT2506EfEfwgec7WovTYbx7FeI6kAAAACxBn5FFETwj/wAAF0Ksj7xlxP6jY3dYgJc2WMLe8+VBoQ+vOBCrVHeYyGj1qQAAACkBn7B0R/8AACSsOWQbXpOrs+6wuXuJ/7I3m1Dr9KMWJGRxDQGHpcg97wAAADEBn7JqR/8AACSuX/s382XzdcFMe9GrtgSR2Mytt5tXv2qNYX9W0hRgoUMYJ9eIdvqQAAAAkEGbt0moQWiZTAhn//6eEAAASUPNe8o1+wAc+5rsM+2D/K++vWt4VsDO5dWIfrKgIFGGAe8Vo5oTU+lAdwSEc29nC6WYUANCBaqrO7nM0w8SSUE8ZgSkYX/QC+DPvQmjnyX7a0iwt+3aUkON4ljRIp5khTC4wLuxwc2YpDZUw9xqP4YwQq67/P43JIkAmccoYAAAAEdBn9VFESwj/wAAF9/sHp7H2VRrwADdZVKTiA6JHNlx/3/gQtqxwADlCVrGppq3qNxQy082oe+32rSbD+STQZ+wcmR3EeNqQQAAADIBn/R0R/8AACXCzHFcVaqdOiDadRyYQvsyGa3U/X0Z0uhOa8BJbaQQA3kXB0uUcsKpuAAAADMBn/ZqR/8AACWuXuJ5YtdRgfjMRxLYlz8kmmNQ+9Dow+d2YMsRC64lk9jb8mqe6ocI4IEAAACnQZv7SahBbJlMCF///oywAABKKTfLOW2DSl4Ef58iWyNocV0y6LsvX1lfPwF4zK+GW5ywSUAOOJ/2+8EqvxMFtu+jkioK9txA6UAAq0s7ha6rr80yxWlKrQ59oydjaYgyENsBSRA9FyZuHZZju6fpIvVs+yxnunJxmUQN2XpnseHEs6R3iAJkYUcSM48ZrDpesBZTXlkjuf0dMn7H7HCyjft/yjtiNZEAAABGQZ4ZRRUsI/8AABff6+i0Q47VUpSFxlGsSvl+fP3ZHXuO06hYb+EYk8wpKw4zQG81dEeZqWPLoAS25jgzj5iEdBkEj1h2vAAAACcBnjh0R/8AACW/797wxjCWV8CV2n9gWvBLiSDfa8sItD4rsgIVa8EAAAAmAZ46akf/AAAlrl4zgi+0F8c/Wy+QxawqW26FzMpFBltlfumW2RYAAACUQZo/SahBbJlMCF///oywAABKJKNoWjNSAEY/Tvo+e2u3k93RjbbwzaVukutJuJUfMZQDPk4xHqZYZavmxJe8nJY45JFRak/1aynM8L2S2O22oRhkFf0Iuoe6ouwJ/XijfTer9biBtne0WVlLDlzpt2gmqn3Or+/WoaYNrmdeFnSvmVNWyyMcBmsPiy4F/nNFsGe7yQAAAE5Bnl1FFSwj/wAAF99D6NhwtaVwcQh8ke9kE9+ehuh10HOSosAJFIw9JoRNKAvDk9e+4eo6JxFaIrIAFukAYqiB3+hSb4CnCC9rvFKq6YEAAAAqAZ58dEf/AAAlv++M+SoiKdaW9eU6AnAqTA7+MgKDSni5I8NyaoBEtkWAAAAAJQGefmpH/wAAJa5eaR4FMshzJR5cw7XIfidypHHY6d/3lXdCfTAAAACHQZpjSahBbJlMCF///oywAABMFFVcvB3tOhYrTQEJrHTJsKmWZKCxi1dwr/xA6WAZ5/LocsISAFnYXhhzU1k4q3230X1IINb2B6UUMAQirSTyLI2/S34fMmyxPi6bwdrdEQ3IPNCXhofPdCOQvbANnd7P2/VCwVp8ARwg/Hv8lbmeLib4fbARAAAANkGegUUVLCP/AAAYf3VI0woweLLgACIg0vL3E0di3UdaTxUwIb0gQTmCYLD/oiXPlPym+ftnwAAAADsBnqB0R/8AACbDEJFkG8pK0JMxwaw43hVrfrNLzOt+Q3NOdt12ad2O1o/E5oHDRRAK69qW2LEMS6WusQAAADkBnqJqR/8AACa9Jr9UcwXlNI3b5cHU5wUfbOV3M2KEWvl5r0aTVLjsfMlz1I++p25nbqMWGaZCz4AAAAA7QZqnSahBbJlMCFf//jhAAAEk9E7LErZAjfsCqshI1/Biu4TGXkaKBbiFGdxED3fsnGBP3A6ZloBI9rEAAABNQZ7FRRUsI/8AABiIdFtCghI9/foCRicwEgI4lO6tnnuRXsPqMUI42nihWg3ToQIUdZJnrvkZRBINqvt3Sw2QA1sUBzBFu3SLmHENtOEAAAA9AZ7kdEf/AAAmv+9unOtoKPxKzHZq2Re52t3jltUNgRKGlR1LQABbCbMXwbwtbOKFU7Nw2YSrm1zhG191gQAAAEABnuZqR/8AACatXAw/KYm+JGH20ZrZa7vH0VmyPwnkQsUaPb1Yk+FMPVstpUFZ0zUPzDCMzCDhorsug13sBs+BAAAAekGa6EmoQWyZTAhf//6MsAAATnpvQZWxk6LAAcbNf5EsbdqO8Qx/CakpKQ0iaRq3oLFxt+Qt+kwYKZPdadlPKhTmRqyP2szqE43X5JkZliL17UHdjKZpA70tGLNwkYJbZq1n70PDATndlkUZJTMxI4g8MgxU0meTWDOAAAAAmkGbC0nhClJlMCFf/jhAAAEs8xmKwzoRPlqBREVsl/dCPoUeugCsn1QRuQ0D/xbmYQpSUKQbII4PbgnLbFRORkYHPIVGu3T0wCCNORxdOCOSyPyWFG0m5aYHE7f+w6gCGi7vJoEzjTO1Q7F2cQIi5p/lELrzKdj591S2tn4UWCRfodQtOOIVxZb53rJO9ZBNcyVaKv2F1g6pfcQAAABJQZ8pRTRMI/8AABkpc8J5gQML9uMjej72zKanpaSTX5U4hu+v65I6wUaYMQ371OLB5P7VMICK8EXJeqLhm/rPxID65QhdopJUTQAAAE0Bn0pqR/8AACfFU9M6cbXh3f12eFACUV72wQGsZNllBHeNDohuL/Id+4XE2zmayl0YzTkzIePwaXAnMH8uwQ2GC3Ksp83+czVPMbVIIAAAAJtBm0xJqEFomUwIV//+OEAAASz6vKtgE/EDny4uJdwuXF07T+pnmt2IWJ5SpqsKvt9MR/tose5m9pobz1MpijtcIT2Xzp5qd5DFL8nFejgC7Ur0Jr+5lQb99ukHa1h3+Ka5cDM8j7SM1oY7OiWDrwismo2/bzg8PuhaZnbweX2n8EvChZG6bPrEoKBYGtHXW3j3yTe4AqEpM1v9wAAAAIBBm25J4QpSZTBREsK//jhAAAEs8XzEInXFgdyLwQAbf0nmuoRhkyNzK846Mkvpbo7iPi7B7buWkkm8JYCsz4roEGXxxhSGnpYkeyh0gQ2g+pfW3Y0TOHGLHOJmEhP6CJN+JT545dvTO6T+JMWHgve77du/kS++oFbdliYkbFlZUQAAADoBn41qR/8AACfFVHwN2ZxsbAurz43apDNPqQ8hzYDnv1rr98+REojzKD/bDTcNE8DaCM8WJ8oAfYFhAAAAtEGbj0nhDomUwIV//jhAAAEtoeRBplW2HivY0AVYLEAh5beyid+eybIAbXtrO65/UyMAAEFc28Nrz+/KBbL6/LUvci69//UD4QMuh37RtijczWKJEYTb5Q6QaBUJBjzHC6NJopi0EOq3C9+FYRDMeqATlDopg7B3t0Ex6QV8vCrxp51swrj1P2ew/+zQo67lp2TwyZGTloDPP3mleyCrz9ySKso/J7kE+iNT8Ta9s9kbWiS2WQAAAMNBm7BJ4Q8mUwIX//6MsAAATgLrjOAK3pJfBbY6k8rvbUqmrcHBv7OjPxkypsSU9WH6xalpNXHipwmYF6gQZlw2TRmGZNAjL9v1mSob87kLHJWtTr3fh6LdnrUnBmYPyccVLCJIuj+pddwzbO9ebjUT4896S4QcrDMKFX7pGQZfyT9H09KoBQgCprxQwNdIOdcsKPNF/qp5NFIr0jPbahXfuwgDPwLNS87geC1TZVjk3ThY+kynKWQnzgw/JnGRdIP9L6MAAACdQZvSSeEPJlMFETwv//6MsAAATgDuJEAQttyrEVPLE5hCrhiDSYRuIr6NVjnMXIpQGoCCJXjf3zlKP0bcUD//8qSr/D6ui8S0TjtqS2b2DlygJTegxKds+tJdc4pRSbkoJg9y3EDSxRtWKQYIH8Tj/UY9S3Sj9d7mSTIU6v/pWfdjM1jL+7ugbfK6uXHElhQE+uq9/4nlhGX3d86kEAAAAFEBn/FqR/8AACj5bPmeqcQGJ7MLKT1KLlv9FXgXxKhuphg7SSb561rdDC6LtzSwlJJf9AhWRxWEDoq/hPJkcSOP88AAfzdraLpz8aydlTNUZ8EAAACWQZvzSeEPJlMCF//+jLAAAE4B8oCHc9eeXJ/VB/5d1OnCIiQvuiidDBEU3lMnrIH6RfvuTy26YqANb9iIu2domrJ2Se4W/Yh+0wEH0bjmi5GOzXEiZ+CNPgp4gLSbE67hcv/AvaVbi++WYLoJs1hPZ4t3aQG3P5nkS97Ur/t1I0FayvraJPmpTLCGBBtx3oPrcHqZnq+AAAAAvkGaF0nhDyZTAhf//oywAABQKjq4qOATXouCc7/4fmfpsIpQAt+Kvct8bsTpr2cWEkMtJmPHhd/6snO9ZtGGl9VAaDXReeXfsr1b6ANbI+aitGufwl9TZvl+1BpwOjL4WHzmzBhhGCI/Y4xa5zhPtEx+sPmbOyJwsTIwA2jmxv0UaLlUjMJR4z4z1EUkT3v4ObRhJGa74/lAINcbarHDVn/PoJKUmkBuGbt5siuh1eVKJd4mzI+mZFv3tJODlOAAAABdQZ41RRE8I/8AABnIaUX1t3I5PAsVC2KmBDMWMLDQGw23Nglu1NBesk84fTCHymbkutu1vZRATcAA3TIkquDqNDHFE0N+zWLifWP47lZOIWv3uS7Tqw1W/4uwlgiPAAAASAGeVHRH/wAAKP4emjxQ2Y0Kxwos7JP7l4ly/wo3Ik6cBxPL/yUv/y9t90h05aigbIUqhtcQAJ20uSCMZ4dBYKSzAIQKrk4cCAAAADYBnlZqR/8AACjlVHwN2qysUB4b+SQ23qqXz6CWK0QfhK/kc0oBq/UXXr77TTqg2ptpXbW6MkEAAABrQZpZSahBaJlMFPC//oywAABQPPE4QAVX5NdRcmMQZauYPWnJQlA+PyT4HYhJ6lCXEZy9+IRnmGXZI3TJBqHV5wk1CgCApacvgEuQg0QiqfTvA3V+z+KK3POP+WJrtk4zPiKs7lWpPChD98sAAAAnAZ54akf/AAAo9zNFVILm6jOp4je1BTJo1GOaQnk/ezBrHHztFuNUAAAAskGafUnhClJlMCF//oywAABScZkJ82kaJ/e1Xn9fmN3ElscoLF3QeGMizKC2mD7FpLWoL6fsJ9eJXCfhoFoI9W+4AREbR4unpFveIh+KKA0BtuyYJqr6S5WEvLEFqBhvMnZ2RqYhcw8AEWW9shxj42tsj2C9xQ7fGsRV4EszgMBvYhjS5Hci1mlTfQ9hlDh6uuSeEO0IARyAgYbufbsT/nQoh37MNBUl1UXF5Z4QOggQBQcAAAA1QZ6bRTRMI/8AABppgs22aB4C1JxlTA4DaYDTcAOUGYMgMPjGqxPSDK5BzPYT61gYGLU1M1sAAABIAZ66dEf/AAAo+p0YzuGpzjliUy2p9fbeh6s0hgre1OrWa8U5pzS2fBgJ1sP/4UkQ3l1Xv3vt1/BAAlk99OD/KEZhIwp3dV3BAAAAOwGevGpH/wAAKhmBkUDTOBuFIHRDpsPNJnF/WCPamVA8CodI9WWGbrp251G7VicJB2QuhGKHGsh9Y1pbAAAAe0Gav0moQWiZTBTwz/6eEAAAUatXZ9CmHGAMsyg9aXnIM+O1z9XOicsX6JXuwmDJjXLUkBrU6xXME15ryQ6dAJKVEFGQGiEe5uolQ2AB89wlBfC1qfKMHTJ+kXitnPi8UP3tiixMoIliRoW1/7/8fRHUm8Gfg72JZtjaXgAAADgBnt5qR/8AACoEGS0jOiBAsGdh31gJ21H8Hnr1xjj4brFeVAlPfaB6MdNx5xFYu4DsclQLrXBQwAAAAKJBmsNJ4QpSZTAhn/6eEAAAUdRYUc6qAHBRZNFKVQVgMPzkwCiMlLCSPS9o57F369p2OOuVmvmzF6Lm3Nakid1KWXR6ncaJITX3r4W0Hm0/xMMVNZGlRS2ReS4+qCsW7+oYs5i267auBUYN1ieOIse/a1g6e5HtM0LNxcix1Q6a7gu0Rhf4OZ+V/fxOzs/AtmnHdQIamu578cRAYllGIUNN0SEAAABOQZ7hRTRMI/8AABpfQ70LQX0wvY6AATs3oPEjSChqEH2ox6Pyy9tUjXTdU69xt8GhukSqXxFhOLTfMElwX+euyB1zK3fYzrYzTlLd86MsAAAANwGfAHRH/wAAKf+elpxYxuG9XB72sYjXICbMcS919EaABZHpmzNDD5XJcQXcuBNtpTcHyVBXYwUAAAAsAZ8Cakf/AAAqBVPTPNM4xtHTjqYbt+MoKthL7KJ/bOXa0dQaAxvcohHByoAAAACUQZsHSahBaJlMCGf//p4QAABUAgMBjgJIgfELLXitFSABUigZjrsbGk0a5kap61Un6DQydvXOnkFug9wUBhWWzHYNtz8UGah0vfta668BqiLiCOklo53Qs/r3zfjdsrXGdLmwlAdffFmf+TSQcmbvcdhA6wyGqriTTygQ/Z6VryB9g3YK/jevQ1jWdrhRkPGlEnIYtwAAAE9BnyVFESwj/wAAGwl8TsmC1fN+ySGARkFFd8yydHYYNoIcl2bevpwTREQgmQZWnujSAQwiAIWV5Lwz9/WpJjfbN5W7tp9xw58I4DJJeLSRAAAANgGfRHRH/wAAKgBYTgUKFB0UOHc81AALZOMqhZp9fAjvn416PuvlO0XdnIuk3/0MkTFwFLLq/wAAACwBn0ZqR/8AACs5bjisVL1oASXjNkPWYI4knTmhaBxPXxo8d+wHvCgLfd7vQQAAAG1Bm0tJqEFsmUwIZ//+nhAAAFROtrZOIo6AGkdkCc49f3sLwlI6n1h6Z32Jx8HlG3kmXFYyyJfAnnu6Bc3L3FM8aFKbVfN2diphQi9XTUZPCQhPgcdjH7MaB7mUvnrDAQWQzQ1F8jwzfsp5ItxwAAAALEGfaUUVLCP/AAAa/+tc3NQqaAAuH6ukjgvpOkJrTgGCSBHVXwAKKN6asr+AAAAAKAGfiHRH/wAAKzqdHHtqu7Jzaj9FPP4sN2uU6GsLFCTpKHPmtWumv4EAAAAhAZ+Kakf/AAArJVSDU5AkCyHfe06E9CYJrZRzatDjBOjLAAAANUGbj0moQWyZTAhf//6MsAAAVOB3rkU8QkiWA/VVK3cIoZJSq+RmwaSYwAFNmXdhrsoBm6koAAAAQ0GfrUUVLCP/AAAa8DG4EhpEMnCDhgAtbRXKiZxIsmKTAAO6h4UNi0Eiet5adDLb6IQ0UfBTZQYFnxwDE2ApfYVR8aEAAAAkAZ/MdEf/AAArH56S7uy031Q57XbydNUgEJph8A0gmPQDzutpAAAAJwGfzmpH/wAAKymAcL30notv8bNL3WAwPxtt5ASIy9fgUxxeUUSlbQAAAHNBm9NJqEFsmUwIX//+jLAAAFUmJmaJwWA16uUABA+QV9iu/gA2UQB+Y8tnI1zuPImecAyApeOp26Y3Ir2NTJS4F/TDQHP1ZrqyAjMo8jJcMvILU5AwSV6yRRQgRXhgq5rNq8tKdiyfzQiK02ckPD7yAyTAAAAAMkGf8UUVLCP/AAAa/0PenVHq5KfW15fXstyKVCYmhywtWbYf20THAiVlyugp9BkExNtAAAAAMwGeEHRH/wAAKyKTTaCeqeQKiqVcEq4I708Fy7K9Yvegx2+e1c9Zgz6Tsmx5NG9KL95n+QAAACUBnhJqR/8AACskGoqG9Nv/NEBZusMxflRe21xrGBoMTbcrQHssAAAAUEGaFUmoQWyZTBRMM//+nhAAAFPsBemqfaSnrsG+/EwJtC9pKEv5yJgp7xCVLuW6UMIeqAK0sOZu+fsbaGojlmFCpblNhPQqydOf8RXZ/OcRAAAAIgGeNGpH/wAAKyVV4fOneChcPHe4jYpr6xE7vWCk159zfPkAAABAQZo5SeEKUmUwIZ/+nhAAAFYrV11R4Bv9oLdX2F91EOu4ql3onVuVJaEOnwA/3RHH3onSM4xUsx1yloon4Qp3EAAAACdBnldFNEwj/wAAG5/sHqMbRwbjQS4VcSsQkbFEVhEla+RZ1ZUM0+cAAAAlAZ52dEf/AAAsW1cmKFbJq7JPs6J6Pbr++5JS4MU/yN5EquzaywAAACgBnnhqR/8AACxFUn3+AioKOJJoEyciNeVfsQAByZ4WAN3vy45qpfXmAAAAQ0GafUmoQWiZTAhn//6eEAAAVlj2JltycLuOyXzaNNoAWO2RDGE17qcYRKVPhY86dGklOiPOT3Z1ewJtb59vtT+K0UEAAAArQZ6bRREsI/8AABuf6+i0PNOnaKRu7j5iyhyqqPv+ecH4pcKzSQ/0rek+YAAAACMBnrp0R/8AACxAWDUAdQTwFu3k1HwxyOWawDC5A3E85rzDgQAAACMBnrxqR/8AACxFU9M8eoLzFQhoJl2MiUdY1eKxYPRZhZqSSQAAAEhBmqFJqEFsmUwIX//+jLAAAFbqGlbTa49S7cjuVN9Ec2awROW4wSm8LpC8uHmCOlRVBSEdJagCKvU0bmPml3/5ExfML3WU4oAAAAA+QZ7fRRUsI/8AABuom0/ys+D39mFCApnlP9vcwBFN25MKNa9kz4Lu5XdOOlHy6k7MfkKbIqqqH0jBx8LwJIAAAAAiAZ7+dEf/AAAsW1cmKFbJmJHMgoLPN4DAiriFA+3OhOzVZQAAACYBnuBqR/8AACxEGbyNmQcnic1URQAkujnKiR610m0Y6K8+I5EexwAAAD5BmuRJqEFsmUwIZ//+nhAAAFY7v8kjOCvRT6l/HJUcZ9+SriI2FxPQfB2/emUmMCD2tWSoG4sQWn0kDXXnYQAAAClBnwJFFSwj/wAAG5/sjbUocTac2bZlO2NthwuR2ysmrt2z6iEuSZsLKAAAACEBnyNqR/8AACxFVeHzp4TiDH2MA8tDVMjxjvoXzWH0skkAAAAuQZsoSahBbJlMCGf//p4QAABYa1ddUeAb/aC5P0hgmLsw0d9G7UvdhpWC4f6QAwAAADpBn0ZFFSwj/wAAHE0Fj4MbRuTDRt6Xw2bwA4EmMvs/eS1wHjz3AqZ5xbvqrYatLE7Yv9X9UoULxhMtAAAAIwGfZXRH/wAALXtXJihWyOWDGVA09fbbGfEpMa3BE0aCFai1AAAAJgGfZ2pH/wAALWVSff4CKgo4+/OO8ME28JnOBlFVb9DnABEvgItQAAAALkGbbEmoQWyZTAhf//6MsAAAWSnxO/qA6dZTn/IlWc+zRw30WbZNbTYVkRg9tNgAAAAoQZ+KRRUsI/8AABxNBVS0PNOoYWrg0Qt1uQHTVBXhgQMgAg9ODPM9IQAAACQBn6l0R/8AAC17VyYoVsjlgxlQMXFLxshprYCGRwF/jqEMV4AAAAAeAZ+rakf/AAAtZVPTPHqGVITmQqNjecQc6SC1jplgAAAARkGbr0moQWyZTAhn//6eEAAAWJPyf6p/6eXNCCKyiIoJgDOpM4mRrvoCZbNSuFqhoS5XyqmT/jxyX9rJLIneX7r0E0o7E2EAAAAlQZ/NRRUsI/8AABxXdc8Ro3H6ck9gUdUcrqS9LXfT6bvtVUapIQAAACEBn+5qR/8AAC1lU9M8eoZUhOZAlvkc8/MAOqGRRdUZFqEAAABYQZvzSahBbJlMCGf//p4QAABYa3jnUARcyBxeaHVN7vMqVo++HiY435t22vYadRQu0L/aMgge3Any0D36brzDNsazEw2gWdQiV1XNSx+VqoxJsUh2CVdPtAAAAChBnhFFFSwj/wAAHFcvp9kiEtUg7DG+YsXGerdsFyPIZjgCGTQ4PztQAAAAIQGeMHRH/wAALXtYCiJ8J/pKcDzKkUo25COKtyyWQxdTcQAAACUBnjJqR/8AAC1kGmrhkgBLIxywyqCt41McQ30FlanInQUsRdywAAAAMEGaN0moQWyZTAhn//6eEAAAWqsKZ71x5fkYeEbAiEantOzBZvdA5ADzJyj8KFLBQAAAACNBnlVFFSwj/wAAHP0Fj4MbRwv5dDXsZLuwHx3fbaC4uKTFWQAAACcBnnR0R/8AAC6Ck02EHDzzGybqCNeaia81gGFssz5w8dZzllmo3VMAAAAfAZ52akf/AAAuhVPTPHqGVITmQGUnIM8XDm2oEkRTgQAAADZBmntJqEFsmUwIZ//+nhAAAFrBXkr3v+YUuPT1kDdxyTITItm/uQ3pzU/PeZyLdm9WTgohmmEAAAAwQZ6ZRRUsI/8AABz9BVS0PNPB/kjP9MktTuQ7G30d4uAN/+6Hgl7JByK2dgz+SqmAAAAAHwGeuHRH/wAALptXJihWyauyT7OgZi3PnynXmVlnxecAAAAgAZ66akf/AAAuhVPTPHqGZ11tqeslXioi9F8KBypx8vMAAABHQZq/SahBbJlMCGf//p4QAABaq1etyt5OhpMAgWkRpJKWm26WAiAAN2CbShmojs8PQtf09zslYVZZKCC828xFckEQhSgIWisAAAAjQZ7dRRUsI/8AABz9BVS0PNPBi+bCp67pvSaUqXFFQUW08VcAAAAjAZ78dEf/AAAum1Y41A6841FNzPC8UteX9XoP/jnb7Eg/1TAAAAAiAZ7+akf/AAAuhVQQHgwEPlFxuw/NcFpNkYwYZHR2A4Ml5gAAAGhBmuNJqEFsmUwIZ//+nhAAAFqrCrJuygqIHYOQuBoOOJmm7YLdQAChuqDYPC9C4UQUWOs/5qjZRgbpaeEdistv242vLGwB0hpzV7NLQ0LCMlmjZZJKnOfGjeCNj883SHEeUgf0tV077wAAAClBnwFFFSwj/wAAHQcvp9kiEtUg7wMDYzDmVr1dQMKLHR1ZjkajOgH4cAAAACEBnyB0R/8AAC6bWAoifCf6SnA8ypFKOEDoyQG5OfewaXkAAAAjAZ8iakf/AAAuifU2R5FwdP0I6FO66zz4QUItSJvPLIWHTvwAAAAuQZsnSahBbJlMCGf//p4QAABc+7/BC7oJEpGIWgMDetVGhEUyBuAPYlth4Khc+QAAACJBn0VFFSwj/wAAHa0Fj4MbRwv5dDXsZLuTlVUmpAQCnFCBAAAALwGfZHRH/wAAL9czb08lQrkr0iYABGcU2npodPpSYW6YUVmUr2QTrCuyf8/44FSRAAAAHwGfZmpH/wAAL7pQuE7pFLDU5kBlJyDPFw5tqBJET4EAAAArQZtrSahBbJlMCGf//p4QAABc61d6pt93oY4KNIah3uiryCgCbIyQButAgQAAACJBn4lFFSwj/wAAHa0FVLQ808GL5sKnrum9JpSBM3Tm+EukAAAAHwGfqHRH/wAAL9Ox+ChWyauyT7OgZi3PnynXmVlnxdMAAAAfAZ+qakf/AAAvulC4TukUsNTmQGUnIM8XDm2oEkRPgAAAADpBm69JqEFsmUwIZ//+nhAAAFzrV63K3k6GkwCBaRGkkpabe7Q4PR+55jkhSUdhvmwmvExSBJnSGMK8AAAAJkGfzUUVLCP/AAAdrQVUtDzTwYvmxAaw9TahfmLR6Ngi/fQsNE+BAAAAHwGf7HRH/wAAL9Ox+ChWyauyT7OgZi3PnynXmVlnxdMAAAApAZ/uakf/AAAvulEJJCwEPlFxuw/NcFpNkYwTY1A5f8H8Ficmo3HEukEAAAA2QZvzSahBbJlMCGf//p4QAABc61eyiGeOfnz1A1zVrSootiN5Xf1g9EmtY74OyxuqlKrFjJOAAAAAJUGeEUUVLCP/AAAdrQYQeCl1bTtRXoA8Gg32vqk9Jj+KqxD/KSAAAAAiAZ4wdEf/AAAv07MHgnwn+kpwg1/eAlpwfHlRST/AVNwXgQAAACABnjJqR/8AAC+6UzMEyXaZ5gRo7RAJtxC7nZX/xH9sXgAAAEdBmjdJqEFsmUwIX//+jLAAAGAVkTv6gLy0AAcdpCa9/shB+DoFTwCivGWl6u8dK7l87xIcbcdBKPqBnrXnqa/xok+g7za/8AAAAClBnlVFFSwj/wAAHl20tw25HKg8vcsX81vFKaYfjf45EKcUWahcypy3QQAAAB8BnnR0R/8AADETsfgoVsmrsk+zoGYtz58p15lZZ8W6AAAAIgGedmpH/wAAMP7aMNzsefugihdHwOmQj9QR+pfAtmh3iXEAAAAtQZp7SahBbJlMCF///oywAABgFfDh6un3awC0MjhS16OHoXBDGO0vo3/V8OtBAAAAJEGemUUVLCP/AAAeXbS3DbkdCKux3KGz8uTrISd+kCpNvwgIlwAAAB8Bnrh0R/8AADETsfgoVsmrsk+zoGYtz58p15lZZ8W7AAAAIgGeumpH/wAAMP7aMNzsefugihdHwOmQj9QR+pfAtmh3iXAAAABLQZq/SahBbJlMCFf//jhAAAFzi+8FYVyG0H+JLmnycVMHv6X4NzduGb+NrkvrIaIVOg38KCHhiiAKRXKrzcSiNHy7MUR++c0dtlEhAAAAJ0Ge3UUVLCP/AAAeZy9J5WfB8Tuu1s+yynndQ5v4CdgQF0R32ZuqDQAAAB8Bnvx0R/8AADETsfgoVsmrsk+zoGYtz58p15lZZ8W6AAAAJgGe/mpH/wAAMPjdREBeUUdmjTnVB6kIRlCRCOPXuWUUUU85OgTgAAAAPUGa4EmoQWyZTAhf//6MsAAADafyxoAQia1FwrAZJloDcrLwwaI8ivoHo2ZhNQfLOK4BdaPya4oTo4s/y00AAABDQZsESeEKUmUwIV/+OEAAAXOLEjzOf+gHMCzH/kePsLzKwxVZyz6DNO3OLh50SdKx5O80v/mq0B0jjuWkkaWlLkZ/mAAAACdBnyJFNEwj/wAAHl0GJbg81VxGTWq0YHLooPnK0GmkwltEoR4GE6sAAAAjAZ9BdEf/AAAxE7L11Sz2zcZqOZ2CABu9yb4oZdVWq+JJu1YAAAAkAZ9Dakf/AAAw+lOYwilhaXGNkAJDzMmRY5E8DNBTLe4jSdzzAAAAKUGbSEmoQWiZTAhH//3hAAAFzYgy3+lIPV8R9XYskbDFnUzmZq+bpQFPAAAAJkGfZkURLCP/AAAfDQWPgxtHOWiYMbb2cz3uR0EsfcAcQZeHvEeBAAAAIgGfhXRH/wAAMlOx+ChWylRut3bspObrJCXDkfUCioHSB8EAAAAlAZ+Hakf/AAAyOlC4TukUtj0AJZTNFTAir3I6ml/Hourr6GsiNAAAACBBm4lJqEFsmUwI//yEAAAWpWlF0pIms7bXcTztZhgO6AAADGNtb292AAAAbG12aGQAAAAAAAAAAAAAAAAAAAPoAAAPyAABAAABAAAAAAAAAAAAAAAAAQAAAAAAAAAAAAAAAAAAAAEAAAAAAAAAAAAAAAAAAEAAAAAAAAAAAAAAAAAAAAAAAAAAAAAAAAAAAAAAAAACAAALjXRyYWsAAABcdGtoZAAAAAMAAAAAAAAAAAAAAAEAAAAAAAAPyAAAAAAAAAAAAAAAAAAAAAAAAQAAAAAAAAAAAAAAAAAAAAEAAAAAAAAAAAAAAAAAAEAAAAACWAAAAZAAAAAAACRlZHRzAAAAHGVsc3QAAAAAAAAAAQAAD8gAAAIAAAEAAAAACwVtZGlhAAAAIG1kaGQAAAAAAAAAAAAAAAAAADIAAADKAFXEAAAAAAAtaGRscgAAAAAAAAAAdmlkZQAAAAAAAAAAAAAAAFZpZGVvSGFuZGxlcgAAAAqwbWluZgAAABR2bWhkAAAAAQAAAAAAAAAAAAAAJGRpbmYAAAAcZHJlZgAAAAAAAAABAAAADHVybCAAAAABAAAKcHN0YmwAAACwc3RzZAAAAAAAAAABAAAAoGF2YzEAAAAAAAAAAQAAAAAAAAAAAAAAAAAAAAACWAGQAEgAAABIAAAAAAAAAAEAAAAAAAAAAAAAAAAAAAAAAAAAAAAAAAAAAAAAAAAAAAAY//8AAAA2YXZjQwFkAB//4QAZZ2QAH6zZQJgz5eEAAAMAAQAAAwBkDxgxlgEABmjr48siwP34+AAAAAAUYnRydAAAAAAAAG+4AABvuAAAABhzdHRzAAAAAAAAAAEAAADKAAABAAAAABRzdHNzAAAAAAAAAAEAAAABAAAGIGN0dHMAAAAAAAAAwgAAAAEAAAIAAAAAAQAABAAAAAACAAABAAAAAAEAAAUAAAAAAQAAAgAAAAABAAAAAAAAAAEAAAEAAAAAAQAABQAAAAABAAACAAAAAAEAAAAAAAAAAQAAAQAAAAABAAAFAAAAAAEAAAIAAAAAAQAAAAAAAAABAAABAAAAAAEAAAUAAAAAAQAAAgAAAAABAAAAAAAAAAEAAAEAAAAAAQAABQAAAAABAAACAAAAAAEAAAAAAAAAAQAAAQAAAAABAAAFAAAAAAEAAAIAAAAAAQAAAAAAAAABAAABAAAAAAEAAAUAAAAAAQAAAgAAAAABAAAAAAAAAAEAAAEAAAAAAQAABQAAAAABAAACAAAAAAEAAAAAAAAAAQAAAQAAAAABAAAFAAAAAAEAAAIAAAAAAQAAAAAAAAABAAABAAAAAAEAAAMAAAAAAQAAAQAAAAABAAADAAAAAAEAAAEAAAAABAAAAgAAAAABAAAFAAAAAAEAAAIAAAAAAQAAAAAAAAABAAABAAAAAAEAAAUAAAAAAQAAAgAAAAABAAAAAAAAAAEAAAEAAAAAAQAABQAAAAABAAACAAAAAAEAAAAAAAAAAQAAAQAAAAABAAAFAAAAAAEAAAIAAAAAAQAAAAAAAAABAAABAAAAAAEAAAUAAAAAAQAAAgAAAAABAAAAAAAAAAEAAAEAAAAAAQAABQAAAAABAAACAAAAAAEAAAAAAAAAAQAAAQAAAAABAAACAAAAAAEAAAQAAAAAAgAAAQAAAAABAAACAAAAAAEAAAMAAAAAAQAAAQAAAAACAAACAAAAAAEAAAMAAAAAAQAAAQAAAAABAAACAAAAAAEAAAUAAAAAAQAAAgAAAAABAAAAAAAAAAEAAAEAAAAAAQAAAwAAAAABAAABAAAAAAEAAAUAAAAAAQAAAgAAAAABAAAAAAAAAAEAAAEAAAAAAQAAAwAAAAABAAABAAAAAAEAAAUAAAAAAQAAAgAAAAABAAAAAAAAAAEAAAEAAAAAAQAABQAAAAABAAACAAAAAAEAAAAAAAAAAQAAAQAAAAABAAAFAAAAAAEAAAIAAAAAAQAAAAAAAAABAAABAAAAAAEAAAUAAAAAAQAAAgAAAAABAAAAAAAAAAEAAAEAAAAAAQAABQAAAAABAAACAAAAAAEAAAAAAAAAAQAAAQAAAAABAAADAAAAAAEAAAEAAAAAAQAABQAAAAABAAACAAAAAAEAAAAAAAAAAQAAAQAAAAABAAAFAAAAAAEAAAIAAAAAAQAAAAAAAAABAAABAAAAAAEAAAUAAAAAAQAAAgAAAAABAAAAAAAAAAEAAAEAAAAAAQAABAAAAAACAAABAAAAAAEAAAUAAAAAAQAAAgAAAAABAAAAAAAAAAEAAAEAAAAAAQAABQAAAAABAAACAAAAAAEAAAAAAAAAAQAAAQAAAAABAAAEAAAAAAIAAAEAAAAAAQAABQAAAAABAAACAAAAAAEAAAAAAAAAAQAAAQAAAAABAAAFAAAAAAEAAAIAAAAAAQAAAAAAAAABAAABAAAAAAEAAAUAAAAAAQAAAgAAAAABAAAAAAAAAAEAAAEAAAAAAQAABQAAAAABAAACAAAAAAEAAAAAAAAAAQAAAQAAAAABAAAFAAAAAAEAAAIAAAAAAQAAAAAAAAABAAABAAAAAAEAAAUAAAAAAQAAAgAAAAABAAAAAAAAAAEAAAEAAAAAAQAABQAAAAABAAACAAAAAAEAAAAAAAAAAQAAAQAAAAABAAAFAAAAAAEAAAIAAAAAAQAAAAAAAAABAAABAAAAAAEAAAUAAAAAAQAAAgAAAAABAAAAAAAAAAEAAAEAAAAAAQAABQAAAAABAAACAAAAAAEAAAAAAAAAAQAAAQAAAAABAAAFAAAAAAEAAAIAAAAAAQAAAAAAAAABAAABAAAAAAEAAAUAAAAAAQAAAgAAAAABAAAAAAAAAAEAAAEAAAAAAQAAAgAAAAABAAAFAAAAAAEAAAIAAAAAAQAAAAAAAAABAAABAAAAAAEAAAUAAAAAAQAAAgAAAAABAAAAAAAAAAEAAAEAAAAAAQAAAgAAAAAcc3RzYwAAAAAAAAABAAAAAQAAAMoAAAABAAADPHN0c3oAAAAAAAAAAAAAAMoAAAT7AAABjgAAAFQAAAAnAAAAYgAAADcAAAA2AAAAIAAAAFMAAAA1AAAAHgAAAB4AAABpAAAAMgAAACMAAAAeAAAAZAAAAEcAAAAhAAAAIgAAAEkAAAAvAAAAJgAAACAAAABTAAAALAAAAC0AAAAkAAAAagAAADAAAAAcAAAANwAAAHYAAAAyAAAAJAAAAB8AAAA2AAAAJwAAADEAAAAiAAAAUwAAAB4AAABBAAAAOgAAAFYAAAB9AAAAYwAAAGkAAABtAAAAMAAAAC0AAAA1AAAAlAAAAEsAAAA2AAAANwAAAKsAAABKAAAAKwAAACoAAACYAAAAUgAAAC4AAAApAAAAiwAAADoAAAA/AAAAPQAAAD8AAABRAAAAQQAAAEQAAAB+AAAAngAAAE0AAABRAAAAnwAAAIQAAAA+AAAAuAAAAMcAAAChAAAAVQAAAJoAAADCAAAAYQAAAEwAAAA6AAAAbwAAACsAAAC2AAAAOQAAAEwAAAA/AAAAfwAAADwAAACmAAAAUgAAADsAAAAwAAAAmAAAAFMAAAA6AAAAMAAAAHEAAAAwAAAALAAAACUAAAA5AAAARwAAACgAAAArAAAAdwAAADYAAAA3AAAAKQAAAFQAAAAmAAAARAAAACsAAAApAAAALAAAAEcAAAAvAAAAJwAAACcAAABMAAAAQgAAACYAAAAqAAAAQgAAAC0AAAAlAAAAMgAAAD4AAAAnAAAAKgAAADIAAAAsAAAAKAAAACIAAABKAAAAKQAAACUAAABcAAAALAAAACUAAAApAAAANAAAACcAAAArAAAAIwAAADoAAAA0AAAAIwAAACQAAABLAAAAJwAAACcAAAAmAAAAbAAAAC0AAAAlAAAAJwAAADIAAAAmAAAAMwAAACMAAAAvAAAAJgAAACMAAAAjAAAAPgAAACoAAAAjAAAALQAAADoAAAApAAAAJgAAACQAAABLAAAALQAAACMAAAAmAAAAMQAAACgAAAAjAAAAJgAAAE8AAAArAAAAIwAAACoAAABBAAAARwAAACsAAAAnAAAAKAAAAC0AAAAqAAAAJgAAACkAAAAkAAAAFHN0Y28AAAAAAAAAAQAAADAAAABidWR0YQAAAFptZXRhAAAAAAAAACFoZGxyAAAAAAAAAABtZGlyYXBwbAAAAAAAAAAAAAAAAC1pbHN0AAAAJal0b28AAAAdZGF0YQAAAAEAAAAATGF2ZjU4Ljc2LjEwMA==\" type=\"video/mp4\">\n",
              "</video>\n"
            ]
          },
          "metadata": {},
          "execution_count": 73
        }
      ],
      "source": [
        "#@title Визуализация политики\n",
        "#@markdown Выберите номер эпизода, кратный 100 и меньший или равный 1000, и **запустите эту ячейку**.\n",
        "episode_number = 1000 #@param {type:\"number\"}\n",
        "\n",
        "assert (episode_number % 100) == 0, \"Episode number must be a multiple of 100 since we only record every 100th episode.\"\n",
        "assert episode_number < 1001, \"Episode number must be less than or equal to 1000\"\n",
        "\n",
        "\n",
        "eval_episode_number = int(episode_number / 100 * 8)\n",
        "video_path = f\"./video/q_learning/eval/rl-video-episode-{eval_episode_number}.mp4\"\n",
        "\n",
        "mp4 = open(video_path,'rb').read()\n",
        "data_url = \"data:video/mp4;base64,\" + b64encode(mp4).decode()\n",
        "HTML(\"\"\"\n",
        "<video width=400 controls>\n",
        "      <source src=\"%s\" type=\"video/mp4\">\n",
        "</video>\n",
        "\"\"\" % data_url)"
      ]
    },
    {
      "cell_type": "markdown",
      "metadata": {
        "id": "fV3YG7QOZD-B"
      },
      "source": [
        "Кроме того, существует множество алгоритмов RL, которые вносят существенные улучшения в REINFORCE и Deep Q-Learning. См. эти ресурсы:\n",
        "* [REINFORCE с базовым уровнем](https://spinningup.openai.com/en/latest/spinningup/rl_intro3.html#baselines-in-policy-gradients)\n",
        "* [Double Deep Q-Network](https://arxiv.org/pdf/1509.06461.pdf)\n",
        "* [Proximal Policy Optimisation (PPO)](https://arxiv.org/pdf/1707.06347.pdf)\n",
        "\n",
        "Если вы ищете более углубленный онлайн-курс по RL, вы можете ознакомиться с этими курсами:\n",
        "* [Reinforcement Learning Foundations on LinkedIn Learning](https://www.linkedin.com/learning/reinforcement-learning-foundations) (создано одним из наших собственных преподавателей, Хаулатом Абдулхакимом)\n",
        "* [Введение в Reinforcement Learning on FreeCodeCamp](https://www.freecodecamp.org/news/an-introduction-to-reinforcement-learning-4339519de419/)\n",
        "* [Специализация обучения с подкреплением на Coursera](https://www.coursera.org/specializations/reinforcement-learning)\n",
        "\n",
        "Наконец, самый влиятельный учебник по обучению с подкреплением доступен бесплатно онлайн:\n",
        "* [Обучение с подкреплением: введение](http://incompleteideas.net/book/the-book-2nd.html) Ричарда С. Саттона и Эндрю Г. Барто\n",
        "\n",
        "\n",
        "**Ссылки:**\n",
        "\n",
        "* [OpenAI Spinning Up](https://spinningup.openai.com/en/latest/)\n",
        "* [Deep Q-Network]()"
      ]
    },
    {
      "cell_type": "code",
      "source": [],
      "metadata": {
        "id": "6V47Vd_i3qk7"
      },
      "execution_count": null,
      "outputs": []
    }
  ],
  "metadata": {
    "colab": {
      "provenance": [],
      "gpuType": "T4"
    },
    "kernelspec": {
      "display_name": "Python 3",
      "name": "python3"
    },
    "language_info": {
      "codemirror_mode": {
        "name": "ipython",
        "version": 3
      },
      "file_extension": ".py",
      "mimetype": "text/x-python",
      "name": "python",
      "nbconvert_exporter": "python",
      "pygments_lexer": "ipython3",
      "version": "3.8.13"
    },
    "vscode": {
      "interpreter": {
        "hash": "0f35138c66f99be0fd7a1210bb4aa94a6fbaa5f29d51ad43aec0e0ea0ff050f0"
      }
    }
  },
  "nbformat": 4,
  "nbformat_minor": 0
}